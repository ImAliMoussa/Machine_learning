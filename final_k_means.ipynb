{
  "nbformat": 4,
  "nbformat_minor": 0,
  "metadata": {
    "colab": {
      "name": "final_k_means.ipynb",
      "provenance": [],
      "collapsed_sections": []
    },
    "kernelspec": {
      "name": "python3",
      "display_name": "Python 3"
    },
    "accelerator": "GPU"
  },
  "cells": [
    {
      "cell_type": "code",
      "metadata": {
        "id": "hw-yICVfXGM7",
        "colab_type": "code",
        "colab": {}
      },
      "source": [
        "! wget 'http://yann.lecun.com/exdb/mnist/train-images-idx3-ubyte.gz'\n",
        "! wget 'http://yann.lecun.com/exdb/mnist/train-labels-idx1-ubyte.gz'"
      ],
      "execution_count": 0,
      "outputs": []
    },
    {
      "cell_type": "code",
      "metadata": {
        "id": "gjrW82QyXdsL",
        "colab_type": "code",
        "colab": {}
      },
      "source": [
        "! gunzip train-images-idx3-ubyte.gz\n",
        "! gunzip train-labels-idx1-ubyte.gz"
      ],
      "execution_count": 0,
      "outputs": []
    },
    {
      "cell_type": "code",
      "metadata": {
        "id": "5otxMXSg5rFn",
        "colab_type": "code",
        "colab": {}
      },
      "source": [
        "! wget 'http://yann.lecun.com/exdb/mnist/t10k-images-idx3-ubyte.gz'\n",
        "! wget 'http://yann.lecun.com/exdb/mnist/t10k-labels-idx1-ubyte.gz'"
      ],
      "execution_count": 0,
      "outputs": []
    },
    {
      "cell_type": "code",
      "metadata": {
        "id": "QGseMNkj5_iA",
        "colab_type": "code",
        "colab": {}
      },
      "source": [
        "! gunzip t10k-images-idx3-ubyte.gz\n",
        "! gunzip t10k-labels-idx1-ubyte.gz"
      ],
      "execution_count": 0,
      "outputs": []
    },
    {
      "cell_type": "code",
      "metadata": {
        "id": "vEBhDt2J0GLX",
        "colab_type": "code",
        "colab": {}
      },
      "source": [
        "! ls"
      ],
      "execution_count": 0,
      "outputs": []
    },
    {
      "cell_type": "code",
      "metadata": {
        "id": "EtN4Rz2vZREp",
        "colab_type": "code",
        "colab": {}
      },
      "source": [
        "from mlxtend.data import loadlocal_mnist\n",
        "import matplotlib.pyplot as plt\n",
        "import numpy as np\n",
        "import time\n",
        "import scipy as sp\n",
        "from scipy import stats\n",
        "%matplotlib inline\n",
        "\n",
        "Images, Labels = loadlocal_mnist(\n",
        "        images_path='train-images-idx3-ubyte',\n",
        "        labels_path='train-labels-idx1-ubyte')\n",
        "\n",
        "sampleSize = 2000\n",
        "Images = Images[:sampleSize]\n",
        "Labels = Labels[:sampleSize]\n",
        "gray_scale_limit = 256"
      ],
      "execution_count": 0,
      "outputs": []
    },
    {
      "cell_type": "code",
      "metadata": {
        "id": "f2RpqMyu6w-w",
        "colab_type": "code",
        "colab": {}
      },
      "source": [
        "TestImages, TestLabels = loadlocal_mnist(\n",
        "        images_path='t10k-images-idx3-ubyte',\n",
        "        labels_path='t10k-labels-idx1-ubyte')"
      ],
      "execution_count": 0,
      "outputs": []
    },
    {
      "cell_type": "code",
      "metadata": {
        "id": "9FK83sm4rGxT",
        "colab_type": "code",
        "colab": {}
      },
      "source": [
        "def Euclidean(a, b):\n",
        "    return np.linalg.norm(a-b)"
      ],
      "execution_count": 0,
      "outputs": []
    },
    {
      "cell_type": "code",
      "metadata": {
        "id": "ZQ7XQiRlrI3d",
        "colab_type": "code",
        "colab": {}
      },
      "source": [
        "def closest_centroid(Images, Centroids):\n",
        "    distances = np.array([[Euclidean(Images[i], Centroids[j]) for j in range(K)] for i in range(len(Images))])\n",
        "    return np.argmin(distances, axis=1)"
      ],
      "execution_count": 0,
      "outputs": []
    },
    {
      "cell_type": "code",
      "metadata": {
        "id": "2D_m8NTAoRE9",
        "colab_type": "code",
        "colab": {}
      },
      "source": [
        "def initialize_centroids(Images):\n",
        "    centroids = Images.copy()\n",
        "    np.random.shuffle(centroids)\n",
        "    return centroids[:K]"
      ],
      "execution_count": 0,
      "outputs": []
    },
    {
      "cell_type": "code",
      "metadata": {
        "id": "bRrMHv259-ij",
        "colab_type": "code",
        "colab": {}
      },
      "source": [
        "def move_centroids(Images, Closest, Centroids):\n",
        "    return np.array([Images[Closest==i].mean(axis=0) for i in range(K)])"
      ],
      "execution_count": 0,
      "outputs": []
    },
    {
      "cell_type": "code",
      "metadata": {
        "id": "wdFzA81-1JxF",
        "colab_type": "code",
        "colab": {}
      },
      "source": [
        "def get_distortion(Images, ClosestCentroids, Centroids):\n",
        "    return int(np.sum([(Euclidean(Images[index], Centroids[centroid]) ** 2) for index, centroid in enumerate(ClosestCentroids)]))"
      ],
      "execution_count": 0,
      "outputs": []
    },
    {
      "cell_type": "code",
      "metadata": {
        "id": "eTYGb6STqWK-",
        "colab_type": "code",
        "colab": {}
      },
      "source": [
        "def my_run():\n",
        "    global Centroids, ClosestCentroids, Centroids, ClusterLabels, Errors, Iterations\n",
        "    Centroids = initialize_centroids(Images)\n",
        "    Errors = []\n",
        "    \n",
        "    oldCentroids = None\n",
        "    numberofiterations = 300\n",
        "\n",
        "    start_time = time.time()\n",
        "    converged = False\n",
        "    i = 0\n",
        "    for i in range(numberofiterations):\n",
        "        ClosestCentroids = closest_centroid(Images, Centroids)\n",
        "        oldCentroids = Centroids.copy()\n",
        "        Centroids = move_centroids(Images, ClosestCentroids, Centroids)\n",
        "        error = int(Euclidean(Centroids, oldCentroids))\n",
        "        print(\"Current Iteration :\" , i)\n",
        "        # Errors.append(error)\n",
        "        if error == 0:\n",
        "            converged = True\n",
        "            break\n",
        "\n",
        "    end_time = time.time()\n",
        "\n",
        "    print(\"Time taken : \" , end_time - start_time)\n",
        "    print(\"Has converged : \", converged, \" last iteration : \" , i)\n",
        "    # LastIteration.append(i)\n",
        "    ClusterLabels = clusters_labels(ClosestCentroids)\n",
        "    print(\"Accuracy =\", calcAccuracy(TestImages, TestLabels, Images, Labels, ClusterLabels))"
      ],
      "execution_count": 0,
      "outputs": []
    },
    {
      "cell_type": "code",
      "metadata": {
        "id": "mXLYXzJNhcmk",
        "colab_type": "code",
        "colab": {}
      },
      "source": [
        "def clusters_labels(ClosestCentroids):\n",
        "    return np.array([sp.stats.mode([Labels[index] for index, val in enumerate(ClosestCentroids) if val == j])[0][0] for j in range(K)])"
      ],
      "execution_count": 0,
      "outputs": []
    },
    {
      "cell_type": "code",
      "metadata": {
        "id": "YO87MOh77D8K",
        "colab_type": "code",
        "colab": {}
      },
      "source": [
        "def calcAccuracy(TestImages, TestLabels, Images, Labels, ClusterLabels):\n",
        "    TestImagesCentroids = closest_centroid(TestImages, Centroids)\n",
        "    for i in range(TestImagesCentroids.size):\n",
        "        TestImagesCentroids[i] = ClusterLabels[TestImagesCentroids[i]]\n",
        "    return np.sum([0 if val != TestLabels[i] else 1 for i, val in enumerate(TestImagesCentroids)]) / len(TestImages) * 100\n",
        "\n",
        "# print(calcAccuracy(TestImages, TestLabels, Images, Labels, ClusterLabels))"
      ],
      "execution_count": 0,
      "outputs": []
    },
    {
      "cell_type": "code",
      "metadata": {
        "id": "mahqm4MT57P5",
        "colab_type": "code",
        "colab": {}
      },
      "source": [
        "Ks_Used = []\n",
        "Accuracies = []\n",
        "\n",
        "#Running this will take some time depending on number of images and K\n",
        "\n",
        "def runProgram():\n",
        "    global K, Ks_Used, Accuracies\n",
        "    for loops in range(5, 51, 5):\n",
        "        K = loops\n",
        "        my_run()\n",
        "        ncols = 5\n",
        "        nrows = K // (ncols)\n",
        "        print(nrows, ncols, K)\n",
        "        figsize = [10, 2 * nrows]\n",
        "        fig, ax = plt.subplots(nrows=nrows, ncols=ncols, figsize=figsize)\n",
        "\n",
        "        for i, axi in enumerate(ax.flat):\n",
        "            img = Centroids[i].reshape(28, 28)\n",
        "            axi.imshow(img)\n",
        "            axi.axis('off')\n",
        "            axi.set_title(\"Label : \" + str(ClusterLabels[i]))\n",
        "\n",
        "        Ks_Used.append(loops)\n",
        "        Accuracies.append(calcAccuracy(TestImages, TestLabels, Images, Labels, ClusterLabels))\n",
        "        plt.tight_layout(True)\n",
        "        # plt.show()\n",
        "        \n",
        "        name = str(K) + \"centroids.png\"\n",
        "        plt.savefig(name, bbox_inches='tight', pad_inches = 0)\n",
        "\n",
        "runProgram()"
      ],
      "execution_count": 0,
      "outputs": []
    },
    {
      "cell_type": "code",
      "metadata": {
        "id": "ooqgCz4bnSvL",
        "colab_type": "code",
        "colab": {}
      },
      "source": [
        "from google.colab import files\n",
        "for i in range(5, 51, 5):\n",
        "    name = str(i) + \"centroids.png\"\n",
        "    print(name)\n",
        "    files.download(name)"
      ],
      "execution_count": 0,
      "outputs": []
    },
    {
      "cell_type": "code",
      "metadata": {
        "id": "JUrjQ--52ssr",
        "colab_type": "code",
        "colab": {}
      },
      "source": [
        "from google.colab import files\n",
        "fig = plt.figure(figsize=[15, 7])\n",
        "plt.plot(Ks_Used, Accuracies, label=\"Effect of K on accuracy\")\n",
        "plt.xlabel('K')\n",
        "plt.ylabel('Accuracy')\n",
        "plt.title('Effect of K on accuracy')\n",
        "plt.savefig(\"accuracy.png\", bbox_inches='tight', pad_inches = 0)\n",
        "files.download(\"accuracy.png\")"
      ],
      "execution_count": 0,
      "outputs": []
    },
    {
      "cell_type": "code",
      "metadata": {
        "id": "p2Qe4a9e5nxW",
        "colab_type": "code",
        "colab": {}
      },
      "source": [
        "from google.colab import files\n",
        "fig = plt.figure(figsize=[20, 10])\n",
        "plt.plot(Iterations, Errors)\n",
        "plt.xlabel(\"Iterations\")\n",
        "plt.ylabel(\"Errors\")\n",
        "plt.title(\"Errors till convergence, K = 15\")\n",
        "plt.savefig(\"errors.png\", bbox_inches=\"tight\", pad_inches = 0)\n",
        "plt.grid()\n",
        "files.download(\"errors.png\")\n",
        "# Iterations = [z for z in range(62)]"
      ],
      "execution_count": 0,
      "outputs": []
    },
    {
      "cell_type": "code",
      "metadata": {
        "id": "BIMARbPm_9h0",
        "colab_type": "code",
        "colab": {}
      },
      "source": [
        "# Are results wildly different for random restarts if we keep everything else the same\n",
        "import statistics\n",
        "K = 15\n",
        "\n",
        "loops = 10\n",
        "\n",
        "Accuracies = [0 for i in range(loops)]\n",
        "LastIteration = []\n",
        "i = 0\n",
        "for i in range(loops):\n",
        "    my_run()\n",
        "    Accuracies[i] = calcAccuracy(TestImages, TestLabels, Images, Labels, ClusterLabels)\n",
        "    print(\"Accuracy : \" , Accuracies[i] , \"\\n\");\n",
        "\n",
        "meanAccuracy = sum(Accuracies) / len(Accuracies)\n",
        "print(\"Mean accuracy = \", meanAccuracy)\n",
        "standard_deviation = statistics.stdev(Accuracies)\n",
        "print(\"Standard deviation of accuracy = \" , standard_deviation)\n",
        "\n",
        "meanIter = sum(LastIteration) / len(LastIteration)\n",
        "print(\"Mean iterations = \", meanIter)\n",
        "standard_deviation = statistics.stdev(LastIteration)\n",
        "print(\"Standard deviation of iterations = \" , standard_deviation)\n"
      ],
      "execution_count": 0,
      "outputs": []
    },
    {
      "cell_type": "code",
      "metadata": {
        "id": "Z713i8yxbYb6",
        "colab_type": "code",
        "colab": {}
      },
      "source": [
        "K = 200Run the algorithm for different values of K and provide the accuracy of the fit for each\n",
        "tried value with your comments.\n",
        "my_run()"
      ],
      "execution_count": 0,
      "outputs": []
    }
  ]
}