{
  "nbformat": 4,
  "nbformat_minor": 0,
  "metadata": {
    "colab": {
      "name": "nlp.ipynb",
      "provenance": [],
      "collapsed_sections": [],
      "machine_shape": "hm"
    },
    "kernelspec": {
      "name": "python3",
      "display_name": "Python 3"
    },
    "accelerator": "GPU"
  },
  "cells": [
    {
      "cell_type": "code",
      "metadata": {
        "id": "TJzyHg6fuZdW",
        "colab_type": "code",
        "outputId": "de37542f-c17e-4ab4-cfac-cb8ccbad3378",
        "colab": {
          "base_uri": "https://localhost:8080/",
          "height": 1000
        }
      },
      "source": [
        "! wget 'https://github.com/adobe-research/deft_corpus/archive/master.zip'\n",
        "! unzip master.zip\n",
        "! mkdir trainingFiles\n",
        "! mkdir testingFiles"
      ],
      "execution_count": 0,
      "outputs": [
        {
          "output_type": "stream",
          "text": [
            "--2020-01-19 11:49:58--  https://github.com/adobe-research/deft_corpus/archive/master.zip\n",
            "Resolving github.com (github.com)... 140.82.113.4\n",
            "Connecting to github.com (github.com)|140.82.113.4|:443... connected.\n",
            "HTTP request sent, awaiting response... 302 Found\n",
            "Location: https://codeload.github.com/adobe-research/deft_corpus/zip/master [following]\n",
            "--2020-01-19 11:49:58--  https://codeload.github.com/adobe-research/deft_corpus/zip/master\n",
            "Resolving codeload.github.com (codeload.github.com)... 192.30.255.121\n",
            "Connecting to codeload.github.com (codeload.github.com)|192.30.255.121|:443... connected.\n",
            "HTTP request sent, awaiting response... 200 OK\n",
            "Length: unspecified [application/zip]\n",
            "Saving to: ‘master.zip’\n",
            "\n",
            "master.zip              [       <=>          ]   6.95M  5.41MB/s    in 1.3s    \n",
            "\n",
            "2020-01-19 11:50:00 (5.41 MB/s) - ‘master.zip’ saved [7286280]\n",
            "\n",
            "Archive:  master.zip\n",
            "03a42bc5f263bca27145ff724bf1967f02309419\n",
            "   creating: deft_corpus-master/\n",
            "   creating: deft_corpus-master/.github/\n",
            "   creating: deft_corpus-master/.github/ISSUE_TEMPLATE/\n",
            "  inflating: deft_corpus-master/.github/ISSUE_TEMPLATE/tokenization-error.md  \n",
            " extracting: deft_corpus-master/.gitignore  \n",
            "  inflating: deft_corpus-master/LICENSE.md  \n",
            "  inflating: deft_corpus-master/README.md  \n",
            "   creating: deft_corpus-master/data/\n",
            "   creating: deft_corpus-master/data/deft_files/\n",
            "   creating: deft_corpus-master/data/deft_files/dev/\n",
            "  inflating: deft_corpus-master/data/deft_files/dev/t1_biology_0_0.deft  \n",
            "  inflating: deft_corpus-master/data/deft_files/dev/t1_biology_0_202.deft  \n",
            "  inflating: deft_corpus-master/data/deft_files/dev/t1_biology_0_303.deft  \n",
            "  inflating: deft_corpus-master/data/deft_files/dev/t1_biology_0_404.deft  \n",
            "  inflating: deft_corpus-master/data/deft_files/dev/t1_biology_0_606.deft  \n",
            "  inflating: deft_corpus-master/data/deft_files/dev/t1_biology_1_0.deft  \n",
            "  inflating: deft_corpus-master/data/deft_files/dev/t1_biology_1_101.deft  \n",
            "  inflating: deft_corpus-master/data/deft_files/dev/t1_biology_1_202.deft  \n",
            "  inflating: deft_corpus-master/data/deft_files/dev/t1_biology_1_303.deft  \n",
            "  inflating: deft_corpus-master/data/deft_files/dev/t1_biology_1_404.deft  \n",
            "  inflating: deft_corpus-master/data/deft_files/dev/t1_biology_1_505.deft  \n",
            "  inflating: deft_corpus-master/data/deft_files/dev/t1_biology_1_606.deft  \n",
            "  inflating: deft_corpus-master/data/deft_files/dev/t1_biology_2_0.deft  \n",
            "  inflating: deft_corpus-master/data/deft_files/dev/t1_biology_2_101.deft  \n",
            "  inflating: deft_corpus-master/data/deft_files/dev/t1_biology_2_202.deft  \n",
            "  inflating: deft_corpus-master/data/deft_files/dev/t1_biology_2_303.deft  \n",
            "  inflating: deft_corpus-master/data/deft_files/dev/t1_biology_2_404.deft  \n",
            "  inflating: deft_corpus-master/data/deft_files/dev/t1_biology_2_505.deft  \n",
            "  inflating: deft_corpus-master/data/deft_files/dev/t1_biology_2_606.deft  \n",
            "  inflating: deft_corpus-master/data/deft_files/dev/t2_history_0_0.deft  \n",
            "  inflating: deft_corpus-master/data/deft_files/dev/t2_history_0_101.deft  \n",
            "  inflating: deft_corpus-master/data/deft_files/dev/t2_history_1_0.deft  \n",
            "  inflating: deft_corpus-master/data/deft_files/dev/t2_history_2_0.deft  \n",
            "  inflating: deft_corpus-master/data/deft_files/dev/t2_history_2_101.deft  \n",
            "  inflating: deft_corpus-master/data/deft_files/dev/t3_physics_0_0.deft  \n",
            "  inflating: deft_corpus-master/data/deft_files/dev/t3_physics_0_101.deft  \n",
            "  inflating: deft_corpus-master/data/deft_files/dev/t3_physics_1_0.deft  \n",
            "  inflating: deft_corpus-master/data/deft_files/dev/t3_physics_1_101.deft  \n",
            "  inflating: deft_corpus-master/data/deft_files/dev/t3_physics_1_202.deft  \n",
            "  inflating: deft_corpus-master/data/deft_files/dev/t3_physics_2_0.deft  \n",
            "  inflating: deft_corpus-master/data/deft_files/dev/t3_physics_2_101.deft  \n",
            "  inflating: deft_corpus-master/data/deft_files/dev/t3_physics_2_202.deft  \n",
            "  inflating: deft_corpus-master/data/deft_files/dev/t4_psychology_0_0.deft  \n",
            "  inflating: deft_corpus-master/data/deft_files/dev/t4_psychology_0_101.deft  \n",
            "  inflating: deft_corpus-master/data/deft_files/dev/t4_psychology_0_202.deft  \n",
            "  inflating: deft_corpus-master/data/deft_files/dev/t4_psychology_0_303.deft  \n",
            "  inflating: deft_corpus-master/data/deft_files/dev/t4_psychology_1_0.deft  \n",
            "  inflating: deft_corpus-master/data/deft_files/dev/t4_psychology_1_101.deft  \n",
            "  inflating: deft_corpus-master/data/deft_files/dev/t4_psychology_1_303.deft  \n",
            "  inflating: deft_corpus-master/data/deft_files/dev/t4_psychology_2_0.deft  \n",
            "  inflating: deft_corpus-master/data/deft_files/dev/t4_psychology_2_101.deft  \n",
            "  inflating: deft_corpus-master/data/deft_files/dev/t4_psychology_2_202.deft  \n",
            "  inflating: deft_corpus-master/data/deft_files/dev/t4_psychology_2_303.deft  \n",
            "  inflating: deft_corpus-master/data/deft_files/dev/t5_economic_0_0.deft  \n",
            "  inflating: deft_corpus-master/data/deft_files/dev/t5_economic_1_0.deft  \n",
            "  inflating: deft_corpus-master/data/deft_files/dev/t5_economic_1_101.deft  \n",
            "  inflating: deft_corpus-master/data/deft_files/dev/t5_economic_2_0.deft  \n",
            "  inflating: deft_corpus-master/data/deft_files/dev/t5_economic_2_101.deft  \n",
            "  inflating: deft_corpus-master/data/deft_files/dev/t5_economic_2_202.deft  \n",
            "  inflating: deft_corpus-master/data/deft_files/dev/t5_economic_2_303.deft  \n",
            "  inflating: deft_corpus-master/data/deft_files/dev/t6_sociology_0_0.deft  \n",
            "  inflating: deft_corpus-master/data/deft_files/dev/t6_sociology_0_101.deft  \n",
            "  inflating: deft_corpus-master/data/deft_files/dev/t6_sociology_1_0.deft  \n",
            "  inflating: deft_corpus-master/data/deft_files/dev/t6_sociology_1_101.deft  \n",
            "  inflating: deft_corpus-master/data/deft_files/dev/t6_sociology_2_0.deft  \n",
            "  inflating: deft_corpus-master/data/deft_files/dev/t6_sociology_2_101.deft  \n",
            "  inflating: deft_corpus-master/data/deft_files/dev/t7_government_0_0.deft  \n",
            "  inflating: deft_corpus-master/data/deft_files/dev/t7_government_0_101.deft  \n",
            "  inflating: deft_corpus-master/data/deft_files/dev/t7_government_0_202.deft  \n",
            "  inflating: deft_corpus-master/data/deft_files/dev/t7_government_0_303.deft  \n",
            "  inflating: deft_corpus-master/data/deft_files/dev/t7_government_0_404.deft  \n",
            "  inflating: deft_corpus-master/data/deft_files/dev/t7_government_1_0.deft  \n",
            "  inflating: deft_corpus-master/data/deft_files/dev/t7_government_1_202.deft  \n",
            "  inflating: deft_corpus-master/data/deft_files/dev/t7_government_1_303.deft  \n",
            "  inflating: deft_corpus-master/data/deft_files/dev/t7_government_2_0.deft  \n",
            "  inflating: deft_corpus-master/data/deft_files/dev/t7_government_2_101.deft  \n",
            "  inflating: deft_corpus-master/data/deft_files/dev/t7_government_2_202.deft  \n",
            "  inflating: deft_corpus-master/data/deft_files/dev/t7_government_2_303.deft  \n",
            "   creating: deft_corpus-master/data/deft_files/train/\n",
            "  inflating: deft_corpus-master/data/deft_files/train/t1_biology_0_0.deft  \n",
            "  inflating: deft_corpus-master/data/deft_files/train/t1_biology_0_101.deft  \n",
            "  inflating: deft_corpus-master/data/deft_files/train/t1_biology_0_202.deft  \n",
            "  inflating: deft_corpus-master/data/deft_files/train/t1_biology_0_303.deft  \n",
            "  inflating: deft_corpus-master/data/deft_files/train/t1_biology_0_404.deft  \n",
            "  inflating: deft_corpus-master/data/deft_files/train/t1_biology_0_606.deft  \n",
            "  inflating: deft_corpus-master/data/deft_files/train/t1_biology_1_0.deft  \n",
            "  inflating: deft_corpus-master/data/deft_files/train/t1_biology_1_101.deft  \n",
            "  inflating: deft_corpus-master/data/deft_files/train/t1_biology_1_202.deft  \n",
            "  inflating: deft_corpus-master/data/deft_files/train/t1_biology_1_303.deft  \n",
            "  inflating: deft_corpus-master/data/deft_files/train/t1_biology_1_404.deft  \n",
            "  inflating: deft_corpus-master/data/deft_files/train/t1_biology_1_505.deft  \n",
            "  inflating: deft_corpus-master/data/deft_files/train/t1_biology_1_606.deft  \n",
            "  inflating: deft_corpus-master/data/deft_files/train/t1_biology_2_0.deft  \n",
            "  inflating: deft_corpus-master/data/deft_files/train/t1_biology_2_101.deft  \n",
            "  inflating: deft_corpus-master/data/deft_files/train/t1_biology_2_202.deft  \n",
            "  inflating: deft_corpus-master/data/deft_files/train/t1_biology_2_303.deft  \n",
            "  inflating: deft_corpus-master/data/deft_files/train/t1_biology_2_404.deft  \n",
            "  inflating: deft_corpus-master/data/deft_files/train/t1_biology_2_505.deft  \n",
            "  inflating: deft_corpus-master/data/deft_files/train/t1_biology_2_606.deft  \n",
            "  inflating: deft_corpus-master/data/deft_files/train/t2_history_0_0.deft  \n",
            "  inflating: deft_corpus-master/data/deft_files/train/t2_history_0_101.deft  \n",
            "  inflating: deft_corpus-master/data/deft_files/train/t2_history_1_0.deft  \n",
            "  inflating: deft_corpus-master/data/deft_files/train/t2_history_1_101.deft  \n",
            "  inflating: deft_corpus-master/data/deft_files/train/t2_history_2_0.deft  \n",
            "  inflating: deft_corpus-master/data/deft_files/train/t2_history_2_101.deft  \n",
            "  inflating: deft_corpus-master/data/deft_files/train/t3_physics_0_0.deft  \n",
            "  inflating: deft_corpus-master/data/deft_files/train/t3_physics_0_101.deft  \n",
            "  inflating: deft_corpus-master/data/deft_files/train/t3_physics_0_202.deft  \n",
            "  inflating: deft_corpus-master/data/deft_files/train/t3_physics_1_0.deft  \n",
            "  inflating: deft_corpus-master/data/deft_files/train/t3_physics_1_101.deft  \n",
            "  inflating: deft_corpus-master/data/deft_files/train/t3_physics_1_202.deft  \n",
            "  inflating: deft_corpus-master/data/deft_files/train/t3_physics_2_0.deft  \n",
            "  inflating: deft_corpus-master/data/deft_files/train/t3_physics_2_101.deft  \n",
            "  inflating: deft_corpus-master/data/deft_files/train/t3_physics_2_202.deft  \n",
            "  inflating: deft_corpus-master/data/deft_files/train/t4_psychology_0_0.deft  \n",
            "  inflating: deft_corpus-master/data/deft_files/train/t4_psychology_0_101.deft  \n",
            "  inflating: deft_corpus-master/data/deft_files/train/t4_psychology_0_202.deft  \n",
            "  inflating: deft_corpus-master/data/deft_files/train/t4_psychology_0_303.deft  \n",
            "  inflating: deft_corpus-master/data/deft_files/train/t4_psychology_1_0.deft  \n",
            "  inflating: deft_corpus-master/data/deft_files/train/t4_psychology_1_101.deft  \n",
            "  inflating: deft_corpus-master/data/deft_files/train/t4_psychology_1_202.deft  \n",
            "  inflating: deft_corpus-master/data/deft_files/train/t4_psychology_1_303.deft  \n",
            "  inflating: deft_corpus-master/data/deft_files/train/t4_psychology_2_0.deft  \n",
            "  inflating: deft_corpus-master/data/deft_files/train/t4_psychology_2_101.deft  \n",
            "  inflating: deft_corpus-master/data/deft_files/train/t4_psychology_2_202.deft  \n",
            "  inflating: deft_corpus-master/data/deft_files/train/t4_psychology_2_303.deft  \n",
            "  inflating: deft_corpus-master/data/deft_files/train/t5_economic_0_0.deft  \n",
            "  inflating: deft_corpus-master/data/deft_files/train/t5_economic_0_101.deft  \n",
            "  inflating: deft_corpus-master/data/deft_files/train/t5_economic_0_202.deft  \n",
            "  inflating: deft_corpus-master/data/deft_files/train/t5_economic_0_303.deft  \n",
            "  inflating: deft_corpus-master/data/deft_files/train/t5_economic_1_0.deft  \n",
            "  inflating: deft_corpus-master/data/deft_files/train/t5_economic_1_101.deft  \n",
            "  inflating: deft_corpus-master/data/deft_files/train/t5_economic_1_202.deft  \n",
            "  inflating: deft_corpus-master/data/deft_files/train/t5_economic_1_303.deft  \n",
            "  inflating: deft_corpus-master/data/deft_files/train/t5_economic_2_0.deft  \n",
            "  inflating: deft_corpus-master/data/deft_files/train/t5_economic_2_101.deft  \n",
            "  inflating: deft_corpus-master/data/deft_files/train/t5_economic_2_202.deft  \n",
            "  inflating: deft_corpus-master/data/deft_files/train/t5_economic_2_303.deft  \n",
            "  inflating: deft_corpus-master/data/deft_files/train/t6_sociology_0_0.deft  \n",
            "  inflating: deft_corpus-master/data/deft_files/train/t6_sociology_0_101.deft  \n",
            "  inflating: deft_corpus-master/data/deft_files/train/t6_sociology_1_0.deft  \n",
            "  inflating: deft_corpus-master/data/deft_files/train/t6_sociology_1_101.deft  \n",
            "  inflating: deft_corpus-master/data/deft_files/train/t6_sociology_2_0.deft  \n",
            "  inflating: deft_corpus-master/data/deft_files/train/t6_sociology_2_101.deft  \n",
            "  inflating: deft_corpus-master/data/deft_files/train/t7_government_0_0.deft  \n",
            "  inflating: deft_corpus-master/data/deft_files/train/t7_government_0_101.deft  \n",
            "  inflating: deft_corpus-master/data/deft_files/train/t7_government_0_202.deft  \n",
            "  inflating: deft_corpus-master/data/deft_files/train/t7_government_0_303.deft  \n",
            "  inflating: deft_corpus-master/data/deft_files/train/t7_government_0_404.deft  \n",
            "  inflating: deft_corpus-master/data/deft_files/train/t7_government_1_0.deft  \n",
            "  inflating: deft_corpus-master/data/deft_files/train/t7_government_1_101.deft  \n",
            "  inflating: deft_corpus-master/data/deft_files/train/t7_government_1_202.deft  \n",
            "  inflating: deft_corpus-master/data/deft_files/train/t7_government_1_303.deft  \n",
            "  inflating: deft_corpus-master/data/deft_files/train/t7_government_1_404.deft  \n",
            "  inflating: deft_corpus-master/data/deft_files/train/t7_government_2_0.deft  \n",
            "  inflating: deft_corpus-master/data/deft_files/train/t7_government_2_101.deft  \n",
            "  inflating: deft_corpus-master/data/deft_files/train/t7_government_2_202.deft  \n",
            "  inflating: deft_corpus-master/data/deft_files/train/t7_government_2_303.deft  \n",
            "  inflating: deft_corpus-master/data/deft_files/train/t7_government_2_404.deft  \n",
            "   creating: deft_corpus-master/data/reference_files/\n",
            "  inflating: deft_corpus-master/data/reference_files/README.md  \n",
            "  inflating: deft_corpus-master/data/reference_files/practice_phase.zip  \n",
            "   creating: deft_corpus-master/data/reference_files/practice_phase/\n",
            "  inflating: deft_corpus-master/data/reference_files/practice_phase/task_1.deft  \n",
            "  inflating: deft_corpus-master/data/reference_files/practice_phase/task_2.deft  \n",
            "  inflating: deft_corpus-master/data/reference_files/practice_phase/task_3.deft  \n",
            "  inflating: deft_corpus-master/data/reference_files/training_phase.zip  \n",
            "   creating: deft_corpus-master/data/reference_files/training_phase/\n",
            "  inflating: deft_corpus-master/data/reference_files/training_phase/task_1_t1_biology_0_0.deft  \n",
            "  inflating: deft_corpus-master/data/reference_files/training_phase/task_1_t1_biology_0_202.deft  \n",
            "  inflating: deft_corpus-master/data/reference_files/training_phase/task_1_t1_biology_0_303.deft  \n",
            "  inflating: deft_corpus-master/data/reference_files/training_phase/task_1_t1_biology_0_404.deft  \n",
            "  inflating: deft_corpus-master/data/reference_files/training_phase/task_1_t1_biology_0_606.deft  \n",
            "  inflating: deft_corpus-master/data/reference_files/training_phase/task_1_t1_biology_1_0.deft  \n",
            "  inflating: deft_corpus-master/data/reference_files/training_phase/task_1_t1_biology_1_101.deft  \n",
            "  inflating: deft_corpus-master/data/reference_files/training_phase/task_1_t1_biology_1_202.deft  \n",
            "  inflating: deft_corpus-master/data/reference_files/training_phase/task_1_t1_biology_1_303.deft  \n",
            "  inflating: deft_corpus-master/data/reference_files/training_phase/task_1_t1_biology_1_404.deft  \n",
            "  inflating: deft_corpus-master/data/reference_files/training_phase/task_1_t1_biology_1_505.deft  \n",
            "  inflating: deft_corpus-master/data/reference_files/training_phase/task_1_t1_biology_1_606.deft  \n",
            "  inflating: deft_corpus-master/data/reference_files/training_phase/task_1_t1_biology_2_0.deft  \n",
            "  inflating: deft_corpus-master/data/reference_files/training_phase/task_1_t1_biology_2_101.deft  \n",
            "  inflating: deft_corpus-master/data/reference_files/training_phase/task_1_t1_biology_2_202.deft  \n",
            "  inflating: deft_corpus-master/data/reference_files/training_phase/task_1_t1_biology_2_303.deft  \n",
            "  inflating: deft_corpus-master/data/reference_files/training_phase/task_1_t1_biology_2_404.deft  \n",
            "  inflating: deft_corpus-master/data/reference_files/training_phase/task_1_t1_biology_2_505.deft  \n",
            "  inflating: deft_corpus-master/data/reference_files/training_phase/task_1_t1_biology_2_606.deft  \n",
            "  inflating: deft_corpus-master/data/reference_files/training_phase/task_1_t2_history_0_0.deft  \n",
            "  inflating: deft_corpus-master/data/reference_files/training_phase/task_1_t2_history_0_101.deft  \n",
            "  inflating: deft_corpus-master/data/reference_files/training_phase/task_1_t2_history_1_0.deft  \n",
            "  inflating: deft_corpus-master/data/reference_files/training_phase/task_1_t2_history_2_0.deft  \n",
            "  inflating: deft_corpus-master/data/reference_files/training_phase/task_1_t2_history_2_101.deft  \n",
            "  inflating: deft_corpus-master/data/reference_files/training_phase/task_1_t3_physics_0_0.deft  \n",
            "  inflating: deft_corpus-master/data/reference_files/training_phase/task_1_t3_physics_0_101.deft  \n",
            "  inflating: deft_corpus-master/data/reference_files/training_phase/task_1_t3_physics_1_0.deft  \n",
            "  inflating: deft_corpus-master/data/reference_files/training_phase/task_1_t3_physics_1_101.deft  \n",
            "  inflating: deft_corpus-master/data/reference_files/training_phase/task_1_t3_physics_1_202.deft  \n",
            "  inflating: deft_corpus-master/data/reference_files/training_phase/task_1_t3_physics_2_0.deft  \n",
            "  inflating: deft_corpus-master/data/reference_files/training_phase/task_1_t3_physics_2_101.deft  \n",
            "  inflating: deft_corpus-master/data/reference_files/training_phase/task_1_t3_physics_2_202.deft  \n",
            "  inflating: deft_corpus-master/data/reference_files/training_phase/task_1_t4_psychology_0_0.deft  \n",
            "  inflating: deft_corpus-master/data/reference_files/training_phase/task_1_t4_psychology_0_101.deft  \n",
            "  inflating: deft_corpus-master/data/reference_files/training_phase/task_1_t4_psychology_0_202.deft  \n",
            "  inflating: deft_corpus-master/data/reference_files/training_phase/task_1_t4_psychology_0_303.deft  \n",
            "  inflating: deft_corpus-master/data/reference_files/training_phase/task_1_t4_psychology_1_0.deft  \n",
            "  inflating: deft_corpus-master/data/reference_files/training_phase/task_1_t4_psychology_1_101.deft  \n",
            "  inflating: deft_corpus-master/data/reference_files/training_phase/task_1_t4_psychology_1_303.deft  \n",
            "  inflating: deft_corpus-master/data/reference_files/training_phase/task_1_t4_psychology_2_0.deft  \n",
            "  inflating: deft_corpus-master/data/reference_files/training_phase/task_1_t4_psychology_2_101.deft  \n",
            "  inflating: deft_corpus-master/data/reference_files/training_phase/task_1_t4_psychology_2_202.deft  \n",
            "  inflating: deft_corpus-master/data/reference_files/training_phase/task_1_t4_psychology_2_303.deft  \n",
            "  inflating: deft_corpus-master/data/reference_files/training_phase/task_1_t5_economic_0_0.deft  \n",
            "  inflating: deft_corpus-master/data/reference_files/training_phase/task_1_t5_economic_1_0.deft  \n",
            "  inflating: deft_corpus-master/data/reference_files/training_phase/task_1_t5_economic_1_101.deft  \n",
            "  inflating: deft_corpus-master/data/reference_files/training_phase/task_1_t5_economic_2_0.deft  \n",
            "  inflating: deft_corpus-master/data/reference_files/training_phase/task_1_t5_economic_2_101.deft  \n",
            "  inflating: deft_corpus-master/data/reference_files/training_phase/task_1_t5_economic_2_202.deft  \n",
            "  inflating: deft_corpus-master/data/reference_files/training_phase/task_1_t5_economic_2_303.deft  \n",
            "  inflating: deft_corpus-master/data/reference_files/training_phase/task_1_t6_sociology_0_0.deft  \n",
            "  inflating: deft_corpus-master/data/reference_files/training_phase/task_1_t6_sociology_0_101.deft  \n",
            "  inflating: deft_corpus-master/data/reference_files/training_phase/task_1_t6_sociology_1_0.deft  \n",
            "  inflating: deft_corpus-master/data/reference_files/training_phase/task_1_t6_sociology_1_101.deft  \n",
            "  inflating: deft_corpus-master/data/reference_files/training_phase/task_1_t6_sociology_2_0.deft  \n",
            "  inflating: deft_corpus-master/data/reference_files/training_phase/task_1_t6_sociology_2_101.deft  \n",
            "  inflating: deft_corpus-master/data/reference_files/training_phase/task_1_t7_government_0_0.deft  \n",
            "  inflating: deft_corpus-master/data/reference_files/training_phase/task_1_t7_government_0_101.deft  \n",
            "  inflating: deft_corpus-master/data/reference_files/training_phase/task_1_t7_government_0_202.deft  \n",
            "  inflating: deft_corpus-master/data/reference_files/training_phase/task_1_t7_government_0_303.deft  \n",
            "  inflating: deft_corpus-master/data/reference_files/training_phase/task_1_t7_government_0_404.deft  \n",
            "  inflating: deft_corpus-master/data/reference_files/training_phase/task_1_t7_government_1_0.deft  \n",
            "  inflating: deft_corpus-master/data/reference_files/training_phase/task_1_t7_government_1_202.deft  \n",
            "  inflating: deft_corpus-master/data/reference_files/training_phase/task_1_t7_government_1_303.deft  \n",
            "  inflating: deft_corpus-master/data/reference_files/training_phase/task_1_t7_government_2_0.deft  \n",
            "  inflating: deft_corpus-master/data/reference_files/training_phase/task_1_t7_government_2_101.deft  \n",
            "  inflating: deft_corpus-master/data/reference_files/training_phase/task_1_t7_government_2_202.deft  \n",
            "  inflating: deft_corpus-master/data/reference_files/training_phase/task_1_t7_government_2_303.deft  \n",
            "  inflating: deft_corpus-master/data/reference_files/training_phase/task_2_t1_biology_0_0.deft  \n",
            "  inflating: deft_corpus-master/data/reference_files/training_phase/task_2_t1_biology_0_202.deft  \n",
            "  inflating: deft_corpus-master/data/reference_files/training_phase/task_2_t1_biology_0_303.deft  \n",
            "  inflating: deft_corpus-master/data/reference_files/training_phase/task_2_t1_biology_0_404.deft  \n",
            "  inflating: deft_corpus-master/data/reference_files/training_phase/task_2_t1_biology_0_606.deft  \n",
            "  inflating: deft_corpus-master/data/reference_files/training_phase/task_2_t1_biology_1_0.deft  \n",
            "  inflating: deft_corpus-master/data/reference_files/training_phase/task_2_t1_biology_1_101.deft  \n",
            "  inflating: deft_corpus-master/data/reference_files/training_phase/task_2_t1_biology_1_202.deft  \n",
            "  inflating: deft_corpus-master/data/reference_files/training_phase/task_2_t1_biology_1_303.deft  \n",
            "  inflating: deft_corpus-master/data/reference_files/training_phase/task_2_t1_biology_1_404.deft  \n",
            "  inflating: deft_corpus-master/data/reference_files/training_phase/task_2_t1_biology_1_505.deft  \n",
            "  inflating: deft_corpus-master/data/reference_files/training_phase/task_2_t1_biology_1_606.deft  \n",
            "  inflating: deft_corpus-master/data/reference_files/training_phase/task_2_t1_biology_2_0.deft  \n",
            "  inflating: deft_corpus-master/data/reference_files/training_phase/task_2_t1_biology_2_101.deft  \n",
            "  inflating: deft_corpus-master/data/reference_files/training_phase/task_2_t1_biology_2_202.deft  \n",
            "  inflating: deft_corpus-master/data/reference_files/training_phase/task_2_t1_biology_2_303.deft  \n",
            "  inflating: deft_corpus-master/data/reference_files/training_phase/task_2_t1_biology_2_404.deft  \n",
            "  inflating: deft_corpus-master/data/reference_files/training_phase/task_2_t1_biology_2_505.deft  \n",
            "  inflating: deft_corpus-master/data/reference_files/training_phase/task_2_t1_biology_2_606.deft  \n",
            "  inflating: deft_corpus-master/data/reference_files/training_phase/task_2_t2_history_0_0.deft  \n",
            "  inflating: deft_corpus-master/data/reference_files/training_phase/task_2_t2_history_0_101.deft  \n",
            "  inflating: deft_corpus-master/data/reference_files/training_phase/task_2_t2_history_1_0.deft  \n",
            "  inflating: deft_corpus-master/data/reference_files/training_phase/task_2_t2_history_2_0.deft  \n",
            "  inflating: deft_corpus-master/data/reference_files/training_phase/task_2_t2_history_2_101.deft  \n",
            "  inflating: deft_corpus-master/data/reference_files/training_phase/task_2_t3_physics_0_0.deft  \n",
            "  inflating: deft_corpus-master/data/reference_files/training_phase/task_2_t3_physics_0_101.deft  \n",
            "  inflating: deft_corpus-master/data/reference_files/training_phase/task_2_t3_physics_1_0.deft  \n",
            "  inflating: deft_corpus-master/data/reference_files/training_phase/task_2_t3_physics_1_101.deft  \n",
            "  inflating: deft_corpus-master/data/reference_files/training_phase/task_2_t3_physics_1_202.deft  \n",
            "  inflating: deft_corpus-master/data/reference_files/training_phase/task_2_t3_physics_2_0.deft  \n",
            "  inflating: deft_corpus-master/data/reference_files/training_phase/task_2_t3_physics_2_101.deft  \n",
            "  inflating: deft_corpus-master/data/reference_files/training_phase/task_2_t3_physics_2_202.deft  \n",
            "  inflating: deft_corpus-master/data/reference_files/training_phase/task_2_t4_psychology_0_0.deft  \n",
            "  inflating: deft_corpus-master/data/reference_files/training_phase/task_2_t4_psychology_0_101.deft  \n",
            "  inflating: deft_corpus-master/data/reference_files/training_phase/task_2_t4_psychology_0_202.deft  \n",
            "  inflating: deft_corpus-master/data/reference_files/training_phase/task_2_t4_psychology_0_303.deft  \n",
            "  inflating: deft_corpus-master/data/reference_files/training_phase/task_2_t4_psychology_1_0.deft  \n",
            "  inflating: deft_corpus-master/data/reference_files/training_phase/task_2_t4_psychology_1_101.deft  \n",
            "  inflating: deft_corpus-master/data/reference_files/training_phase/task_2_t4_psychology_1_303.deft  \n",
            "  inflating: deft_corpus-master/data/reference_files/training_phase/task_2_t4_psychology_2_0.deft  \n",
            "  inflating: deft_corpus-master/data/reference_files/training_phase/task_2_t4_psychology_2_101.deft  \n",
            "  inflating: deft_corpus-master/data/reference_files/training_phase/task_2_t4_psychology_2_202.deft  \n",
            "  inflating: deft_corpus-master/data/reference_files/training_phase/task_2_t4_psychology_2_303.deft  \n",
            "  inflating: deft_corpus-master/data/reference_files/training_phase/task_2_t5_economic_0_0.deft  \n",
            "  inflating: deft_corpus-master/data/reference_files/training_phase/task_2_t5_economic_1_0.deft  \n",
            "  inflating: deft_corpus-master/data/reference_files/training_phase/task_2_t5_economic_1_101.deft  \n",
            "  inflating: deft_corpus-master/data/reference_files/training_phase/task_2_t5_economic_2_0.deft  \n",
            "  inflating: deft_corpus-master/data/reference_files/training_phase/task_2_t5_economic_2_101.deft  \n",
            "  inflating: deft_corpus-master/data/reference_files/training_phase/task_2_t5_economic_2_202.deft  \n",
            "  inflating: deft_corpus-master/data/reference_files/training_phase/task_2_t5_economic_2_303.deft  \n",
            "  inflating: deft_corpus-master/data/reference_files/training_phase/task_2_t6_sociology_0_0.deft  \n",
            "  inflating: deft_corpus-master/data/reference_files/training_phase/task_2_t6_sociology_0_101.deft  \n",
            "  inflating: deft_corpus-master/data/reference_files/training_phase/task_2_t6_sociology_1_0.deft  \n",
            "  inflating: deft_corpus-master/data/reference_files/training_phase/task_2_t6_sociology_1_101.deft  \n",
            "  inflating: deft_corpus-master/data/reference_files/training_phase/task_2_t6_sociology_2_0.deft  \n",
            "  inflating: deft_corpus-master/data/reference_files/training_phase/task_2_t6_sociology_2_101.deft  \n",
            "  inflating: deft_corpus-master/data/reference_files/training_phase/task_2_t7_government_0_0.deft  \n",
            "  inflating: deft_corpus-master/data/reference_files/training_phase/task_2_t7_government_0_101.deft  \n",
            "  inflating: deft_corpus-master/data/reference_files/training_phase/task_2_t7_government_0_202.deft  \n",
            "  inflating: deft_corpus-master/data/reference_files/training_phase/task_2_t7_government_0_303.deft  \n",
            "  inflating: deft_corpus-master/data/reference_files/training_phase/task_2_t7_government_0_404.deft  \n",
            "  inflating: deft_corpus-master/data/reference_files/training_phase/task_2_t7_government_1_0.deft  \n",
            "  inflating: deft_corpus-master/data/reference_files/training_phase/task_2_t7_government_1_202.deft  \n",
            "  inflating: deft_corpus-master/data/reference_files/training_phase/task_2_t7_government_1_303.deft  \n",
            "  inflating: deft_corpus-master/data/reference_files/training_phase/task_2_t7_government_2_0.deft  \n",
            "  inflating: deft_corpus-master/data/reference_files/training_phase/task_2_t7_government_2_101.deft  \n",
            "  inflating: deft_corpus-master/data/reference_files/training_phase/task_2_t7_government_2_202.deft  \n",
            "  inflating: deft_corpus-master/data/reference_files/training_phase/task_2_t7_government_2_303.deft  \n",
            "  inflating: deft_corpus-master/data/reference_files/training_phase/task_3_t1_biology_0_0.deft  \n",
            "  inflating: deft_corpus-master/data/reference_files/training_phase/task_3_t1_biology_0_202.deft  \n",
            "  inflating: deft_corpus-master/data/reference_files/training_phase/task_3_t1_biology_0_303.deft  \n",
            "  inflating: deft_corpus-master/data/reference_files/training_phase/task_3_t1_biology_0_404.deft  \n",
            "  inflating: deft_corpus-master/data/reference_files/training_phase/task_3_t1_biology_0_606.deft  \n",
            "  inflating: deft_corpus-master/data/reference_files/training_phase/task_3_t1_biology_1_0.deft  \n",
            "  inflating: deft_corpus-master/data/reference_files/training_phase/task_3_t1_biology_1_101.deft  \n",
            "  inflating: deft_corpus-master/data/reference_files/training_phase/task_3_t1_biology_1_202.deft  \n",
            "  inflating: deft_corpus-master/data/reference_files/training_phase/task_3_t1_biology_1_303.deft  \n",
            "  inflating: deft_corpus-master/data/reference_files/training_phase/task_3_t1_biology_1_404.deft  \n",
            "  inflating: deft_corpus-master/data/reference_files/training_phase/task_3_t1_biology_1_505.deft  \n",
            "  inflating: deft_corpus-master/data/reference_files/training_phase/task_3_t1_biology_1_606.deft  \n",
            "  inflating: deft_corpus-master/data/reference_files/training_phase/task_3_t1_biology_2_0.deft  \n",
            "  inflating: deft_corpus-master/data/reference_files/training_phase/task_3_t1_biology_2_101.deft  \n",
            "  inflating: deft_corpus-master/data/reference_files/training_phase/task_3_t1_biology_2_202.deft  \n",
            "  inflating: deft_corpus-master/data/reference_files/training_phase/task_3_t1_biology_2_303.deft  \n",
            "  inflating: deft_corpus-master/data/reference_files/training_phase/task_3_t1_biology_2_404.deft  \n",
            "  inflating: deft_corpus-master/data/reference_files/training_phase/task_3_t1_biology_2_505.deft  \n",
            "  inflating: deft_corpus-master/data/reference_files/training_phase/task_3_t1_biology_2_606.deft  \n",
            "  inflating: deft_corpus-master/data/reference_files/training_phase/task_3_t2_history_0_0.deft  \n",
            "  inflating: deft_corpus-master/data/reference_files/training_phase/task_3_t2_history_0_101.deft  \n",
            "  inflating: deft_corpus-master/data/reference_files/training_phase/task_3_t2_history_1_0.deft  \n",
            "  inflating: deft_corpus-master/data/reference_files/training_phase/task_3_t2_history_2_0.deft  \n",
            "  inflating: deft_corpus-master/data/reference_files/training_phase/task_3_t2_history_2_101.deft  \n",
            "  inflating: deft_corpus-master/data/reference_files/training_phase/task_3_t3_physics_0_0.deft  \n",
            "  inflating: deft_corpus-master/data/reference_files/training_phase/task_3_t3_physics_0_101.deft  \n",
            "  inflating: deft_corpus-master/data/reference_files/training_phase/task_3_t3_physics_1_0.deft  \n",
            "  inflating: deft_corpus-master/data/reference_files/training_phase/task_3_t3_physics_1_101.deft  \n",
            "  inflating: deft_corpus-master/data/reference_files/training_phase/task_3_t3_physics_1_202.deft  \n",
            "  inflating: deft_corpus-master/data/reference_files/training_phase/task_3_t3_physics_2_0.deft  \n",
            "  inflating: deft_corpus-master/data/reference_files/training_phase/task_3_t3_physics_2_101.deft  \n",
            "  inflating: deft_corpus-master/data/reference_files/training_phase/task_3_t3_physics_2_202.deft  \n",
            "  inflating: deft_corpus-master/data/reference_files/training_phase/task_3_t4_psychology_0_0.deft  \n",
            "  inflating: deft_corpus-master/data/reference_files/training_phase/task_3_t4_psychology_0_101.deft  \n",
            "  inflating: deft_corpus-master/data/reference_files/training_phase/task_3_t4_psychology_0_202.deft  \n",
            "  inflating: deft_corpus-master/data/reference_files/training_phase/task_3_t4_psychology_0_303.deft  \n",
            "  inflating: deft_corpus-master/data/reference_files/training_phase/task_3_t4_psychology_1_0.deft  \n",
            "  inflating: deft_corpus-master/data/reference_files/training_phase/task_3_t4_psychology_1_101.deft  \n",
            "  inflating: deft_corpus-master/data/reference_files/training_phase/task_3_t4_psychology_1_303.deft  \n",
            "  inflating: deft_corpus-master/data/reference_files/training_phase/task_3_t4_psychology_2_0.deft  \n",
            "  inflating: deft_corpus-master/data/reference_files/training_phase/task_3_t4_psychology_2_101.deft  \n",
            "  inflating: deft_corpus-master/data/reference_files/training_phase/task_3_t4_psychology_2_202.deft  \n",
            "  inflating: deft_corpus-master/data/reference_files/training_phase/task_3_t4_psychology_2_303.deft  \n",
            "  inflating: deft_corpus-master/data/reference_files/training_phase/task_3_t5_economic_0_0.deft  \n",
            "  inflating: deft_corpus-master/data/reference_files/training_phase/task_3_t5_economic_1_0.deft  \n",
            "  inflating: deft_corpus-master/data/reference_files/training_phase/task_3_t5_economic_1_101.deft  \n",
            "  inflating: deft_corpus-master/data/reference_files/training_phase/task_3_t5_economic_2_0.deft  \n",
            "  inflating: deft_corpus-master/data/reference_files/training_phase/task_3_t5_economic_2_101.deft  \n",
            "  inflating: deft_corpus-master/data/reference_files/training_phase/task_3_t5_economic_2_202.deft  \n",
            "  inflating: deft_corpus-master/data/reference_files/training_phase/task_3_t5_economic_2_303.deft  \n",
            "  inflating: deft_corpus-master/data/reference_files/training_phase/task_3_t6_sociology_0_0.deft  \n",
            "  inflating: deft_corpus-master/data/reference_files/training_phase/task_3_t6_sociology_0_101.deft  \n",
            "  inflating: deft_corpus-master/data/reference_files/training_phase/task_3_t6_sociology_1_0.deft  \n",
            "  inflating: deft_corpus-master/data/reference_files/training_phase/task_3_t6_sociology_1_101.deft  \n",
            "  inflating: deft_corpus-master/data/reference_files/training_phase/task_3_t6_sociology_2_0.deft  \n",
            "  inflating: deft_corpus-master/data/reference_files/training_phase/task_3_t6_sociology_2_101.deft  \n",
            "  inflating: deft_corpus-master/data/reference_files/training_phase/task_3_t7_government_0_0.deft  \n",
            "  inflating: deft_corpus-master/data/reference_files/training_phase/task_3_t7_government_0_101.deft  \n",
            "  inflating: deft_corpus-master/data/reference_files/training_phase/task_3_t7_government_0_202.deft  \n",
            "  inflating: deft_corpus-master/data/reference_files/training_phase/task_3_t7_government_0_303.deft  \n",
            "  inflating: deft_corpus-master/data/reference_files/training_phase/task_3_t7_government_0_404.deft  \n",
            "  inflating: deft_corpus-master/data/reference_files/training_phase/task_3_t7_government_1_0.deft  \n",
            "  inflating: deft_corpus-master/data/reference_files/training_phase/task_3_t7_government_1_202.deft  \n",
            "  inflating: deft_corpus-master/data/reference_files/training_phase/task_3_t7_government_1_303.deft  \n",
            "  inflating: deft_corpus-master/data/reference_files/training_phase/task_3_t7_government_2_0.deft  \n",
            "  inflating: deft_corpus-master/data/reference_files/training_phase/task_3_t7_government_2_101.deft  \n",
            "  inflating: deft_corpus-master/data/reference_files/training_phase/task_3_t7_government_2_202.deft  \n",
            "  inflating: deft_corpus-master/data/reference_files/training_phase/task_3_t7_government_2_303.deft  \n",
            "   creating: deft_corpus-master/data/source_txt/\n",
            "   creating: deft_corpus-master/data/source_txt/dev/\n",
            "  inflating: deft_corpus-master/data/source_txt/dev/t1_biology_0_0.txt  \n",
            "  inflating: deft_corpus-master/data/source_txt/dev/t1_biology_0_202.txt  \n",
            "  inflating: deft_corpus-master/data/source_txt/dev/t1_biology_0_303.txt  \n",
            "  inflating: deft_corpus-master/data/source_txt/dev/t1_biology_0_404.txt  \n",
            "  inflating: deft_corpus-master/data/source_txt/dev/t1_biology_0_606.txt  \n",
            "  inflating: deft_corpus-master/data/source_txt/dev/t1_biology_1_0.txt  \n",
            "  inflating: deft_corpus-master/data/source_txt/dev/t1_biology_1_101.txt  \n",
            "  inflating: deft_corpus-master/data/source_txt/dev/t1_biology_1_202.txt  \n",
            "  inflating: deft_corpus-master/data/source_txt/dev/t1_biology_1_303.txt  \n",
            "  inflating: deft_corpus-master/data/source_txt/dev/t1_biology_1_404.txt  \n",
            "  inflating: deft_corpus-master/data/source_txt/dev/t1_biology_1_505.txt  \n",
            "  inflating: deft_corpus-master/data/source_txt/dev/t1_biology_1_606.txt  \n",
            "  inflating: deft_corpus-master/data/source_txt/dev/t1_biology_2_0.txt  \n",
            "  inflating: deft_corpus-master/data/source_txt/dev/t1_biology_2_101.txt  \n",
            "  inflating: deft_corpus-master/data/source_txt/dev/t1_biology_2_202.txt  \n",
            "  inflating: deft_corpus-master/data/source_txt/dev/t1_biology_2_303.txt  \n",
            "  inflating: deft_corpus-master/data/source_txt/dev/t1_biology_2_404.txt  \n",
            "  inflating: deft_corpus-master/data/source_txt/dev/t1_biology_2_505.txt  \n",
            "  inflating: deft_corpus-master/data/source_txt/dev/t1_biology_2_606.txt  \n",
            "  inflating: deft_corpus-master/data/source_txt/dev/t2_history_0_0.txt  \n",
            "  inflating: deft_corpus-master/data/source_txt/dev/t2_history_0_101.txt  \n",
            "  inflating: deft_corpus-master/data/source_txt/dev/t2_history_1_0.txt  \n",
            "  inflating: deft_corpus-master/data/source_txt/dev/t2_history_2_0.txt  \n",
            "  inflating: deft_corpus-master/data/source_txt/dev/t2_history_2_101.txt  \n",
            "  inflating: deft_corpus-master/data/source_txt/dev/t3_physics_0_0.txt  \n",
            "  inflating: deft_corpus-master/data/source_txt/dev/t3_physics_0_101.txt  \n",
            "  inflating: deft_corpus-master/data/source_txt/dev/t3_physics_1_0.txt  \n",
            "  inflating: deft_corpus-master/data/source_txt/dev/t3_physics_1_101.txt  \n",
            "  inflating: deft_corpus-master/data/source_txt/dev/t3_physics_1_202.txt  \n",
            "  inflating: deft_corpus-master/data/source_txt/dev/t3_physics_2_0.txt  \n",
            "  inflating: deft_corpus-master/data/source_txt/dev/t3_physics_2_101.txt  \n",
            "  inflating: deft_corpus-master/data/source_txt/dev/t3_physics_2_202.txt  \n",
            "  inflating: deft_corpus-master/data/source_txt/dev/t4_psychology_0_0.txt  \n",
            "  inflating: deft_corpus-master/data/source_txt/dev/t4_psychology_0_101.txt  \n",
            "  inflating: deft_corpus-master/data/source_txt/dev/t4_psychology_0_202.txt  \n",
            "  inflating: deft_corpus-master/data/source_txt/dev/t4_psychology_0_303.txt  \n",
            "  inflating: deft_corpus-master/data/source_txt/dev/t4_psychology_1_0.txt  \n",
            "  inflating: deft_corpus-master/data/source_txt/dev/t4_psychology_1_101.txt  \n",
            "  inflating: deft_corpus-master/data/source_txt/dev/t4_psychology_1_303.txt  \n",
            "  inflating: deft_corpus-master/data/source_txt/dev/t4_psychology_2_0.txt  \n",
            "  inflating: deft_corpus-master/data/source_txt/dev/t4_psychology_2_101.txt  \n",
            "  inflating: deft_corpus-master/data/source_txt/dev/t4_psychology_2_202.txt  \n",
            "  inflating: deft_corpus-master/data/source_txt/dev/t4_psychology_2_303.txt  \n",
            "  inflating: deft_corpus-master/data/source_txt/dev/t5_economic_0_0.txt  \n",
            "  inflating: deft_corpus-master/data/source_txt/dev/t5_economic_1_0.txt  \n",
            "  inflating: deft_corpus-master/data/source_txt/dev/t5_economic_1_101.txt  \n",
            "  inflating: deft_corpus-master/data/source_txt/dev/t5_economic_2_0.txt  \n",
            "  inflating: deft_corpus-master/data/source_txt/dev/t5_economic_2_101.txt  \n",
            "  inflating: deft_corpus-master/data/source_txt/dev/t5_economic_2_202.txt  \n",
            "  inflating: deft_corpus-master/data/source_txt/dev/t5_economic_2_303.txt  \n",
            "  inflating: deft_corpus-master/data/source_txt/dev/t6_sociology_0_0.txt  \n",
            "  inflating: deft_corpus-master/data/source_txt/dev/t6_sociology_0_101.txt  \n",
            "  inflating: deft_corpus-master/data/source_txt/dev/t6_sociology_1_0.txt  \n",
            "  inflating: deft_corpus-master/data/source_txt/dev/t6_sociology_1_101.txt  \n",
            "  inflating: deft_corpus-master/data/source_txt/dev/t6_sociology_2_0.txt  \n",
            "  inflating: deft_corpus-master/data/source_txt/dev/t6_sociology_2_101.txt  \n",
            "  inflating: deft_corpus-master/data/source_txt/dev/t7_government_0_0.txt  \n",
            "  inflating: deft_corpus-master/data/source_txt/dev/t7_government_0_101.txt  \n",
            "  inflating: deft_corpus-master/data/source_txt/dev/t7_government_0_202.txt  \n",
            "  inflating: deft_corpus-master/data/source_txt/dev/t7_government_0_303.txt  \n",
            "  inflating: deft_corpus-master/data/source_txt/dev/t7_government_0_404.txt  \n",
            "  inflating: deft_corpus-master/data/source_txt/dev/t7_government_1_0.txt  \n",
            "  inflating: deft_corpus-master/data/source_txt/dev/t7_government_1_202.txt  \n",
            "  inflating: deft_corpus-master/data/source_txt/dev/t7_government_1_303.txt  \n",
            "  inflating: deft_corpus-master/data/source_txt/dev/t7_government_2_0.txt  \n",
            "  inflating: deft_corpus-master/data/source_txt/dev/t7_government_2_101.txt  \n",
            "  inflating: deft_corpus-master/data/source_txt/dev/t7_government_2_202.txt  \n",
            "  inflating: deft_corpus-master/data/source_txt/dev/t7_government_2_303.txt  \n",
            "   creating: deft_corpus-master/data/source_txt/train/\n",
            "  inflating: deft_corpus-master/data/source_txt/train/t1_biology_0_0.txt  \n",
            "  inflating: deft_corpus-master/data/source_txt/train/t1_biology_0_101.txt  \n",
            "  inflating: deft_corpus-master/data/source_txt/train/t1_biology_0_202.txt  \n",
            "  inflating: deft_corpus-master/data/source_txt/train/t1_biology_0_303.txt  \n",
            "  inflating: deft_corpus-master/data/source_txt/train/t1_biology_0_404.txt  \n",
            "  inflating: deft_corpus-master/data/source_txt/train/t1_biology_0_606.txt  \n",
            "  inflating: deft_corpus-master/data/source_txt/train/t1_biology_1_0.txt  \n",
            "  inflating: deft_corpus-master/data/source_txt/train/t1_biology_1_101.txt  \n",
            "  inflating: deft_corpus-master/data/source_txt/train/t1_biology_1_202.txt  \n",
            "  inflating: deft_corpus-master/data/source_txt/train/t1_biology_1_303.txt  \n",
            "  inflating: deft_corpus-master/data/source_txt/train/t1_biology_1_404.txt  \n",
            "  inflating: deft_corpus-master/data/source_txt/train/t1_biology_1_505.txt  \n",
            "  inflating: deft_corpus-master/data/source_txt/train/t1_biology_1_606.txt  \n",
            "  inflating: deft_corpus-master/data/source_txt/train/t1_biology_2_0.txt  \n",
            "  inflating: deft_corpus-master/data/source_txt/train/t1_biology_2_101.txt  \n",
            "  inflating: deft_corpus-master/data/source_txt/train/t1_biology_2_202.txt  \n",
            "  inflating: deft_corpus-master/data/source_txt/train/t1_biology_2_303.txt  \n",
            "  inflating: deft_corpus-master/data/source_txt/train/t1_biology_2_404.txt  \n",
            "  inflating: deft_corpus-master/data/source_txt/train/t1_biology_2_505.txt  \n",
            "  inflating: deft_corpus-master/data/source_txt/train/t1_biology_2_606.txt  \n",
            "  inflating: deft_corpus-master/data/source_txt/train/t2_history_0_0.txt  \n",
            "  inflating: deft_corpus-master/data/source_txt/train/t2_history_0_101.txt  \n",
            "  inflating: deft_corpus-master/data/source_txt/train/t2_history_1_0.txt  \n",
            "  inflating: deft_corpus-master/data/source_txt/train/t2_history_1_101.txt  \n",
            "  inflating: deft_corpus-master/data/source_txt/train/t2_history_2_0.txt  \n",
            "  inflating: deft_corpus-master/data/source_txt/train/t2_history_2_101.txt  \n",
            "  inflating: deft_corpus-master/data/source_txt/train/t3_physics_0_0.txt  \n",
            "  inflating: deft_corpus-master/data/source_txt/train/t3_physics_0_101.txt  \n",
            "  inflating: deft_corpus-master/data/source_txt/train/t3_physics_0_202.txt  \n",
            "  inflating: deft_corpus-master/data/source_txt/train/t3_physics_1_0.txt  \n",
            "  inflating: deft_corpus-master/data/source_txt/train/t3_physics_1_101.txt  \n",
            "  inflating: deft_corpus-master/data/source_txt/train/t3_physics_1_202.txt  \n",
            "  inflating: deft_corpus-master/data/source_txt/train/t3_physics_2_0.txt  \n",
            "  inflating: deft_corpus-master/data/source_txt/train/t3_physics_2_101.txt  \n",
            "  inflating: deft_corpus-master/data/source_txt/train/t3_physics_2_202.txt  \n",
            "  inflating: deft_corpus-master/data/source_txt/train/t4_psychology_0_0.txt  \n",
            "  inflating: deft_corpus-master/data/source_txt/train/t4_psychology_0_101.txt  \n",
            "  inflating: deft_corpus-master/data/source_txt/train/t4_psychology_0_202.txt  \n",
            "  inflating: deft_corpus-master/data/source_txt/train/t4_psychology_0_303.txt  \n",
            "  inflating: deft_corpus-master/data/source_txt/train/t4_psychology_1_0.txt  \n",
            "  inflating: deft_corpus-master/data/source_txt/train/t4_psychology_1_101.txt  \n",
            "  inflating: deft_corpus-master/data/source_txt/train/t4_psychology_1_202.txt  \n",
            "  inflating: deft_corpus-master/data/source_txt/train/t4_psychology_1_303.txt  \n",
            "  inflating: deft_corpus-master/data/source_txt/train/t4_psychology_2_0.txt  \n",
            "  inflating: deft_corpus-master/data/source_txt/train/t4_psychology_2_101.txt  \n",
            "  inflating: deft_corpus-master/data/source_txt/train/t4_psychology_2_202.txt  \n",
            "  inflating: deft_corpus-master/data/source_txt/train/t4_psychology_2_303.txt  \n",
            "  inflating: deft_corpus-master/data/source_txt/train/t5_economic_0_0.txt  \n",
            "  inflating: deft_corpus-master/data/source_txt/train/t5_economic_0_101.txt  \n",
            "  inflating: deft_corpus-master/data/source_txt/train/t5_economic_0_202.txt  \n",
            "  inflating: deft_corpus-master/data/source_txt/train/t5_economic_0_303.txt  \n",
            "  inflating: deft_corpus-master/data/source_txt/train/t5_economic_1_0.txt  \n",
            "  inflating: deft_corpus-master/data/source_txt/train/t5_economic_1_101.txt  \n",
            "  inflating: deft_corpus-master/data/source_txt/train/t5_economic_1_202.txt  \n",
            "  inflating: deft_corpus-master/data/source_txt/train/t5_economic_1_303.txt  \n",
            "  inflating: deft_corpus-master/data/source_txt/train/t5_economic_2_0.txt  \n",
            "  inflating: deft_corpus-master/data/source_txt/train/t5_economic_2_101.txt  \n",
            "  inflating: deft_corpus-master/data/source_txt/train/t5_economic_2_202.txt  \n",
            "  inflating: deft_corpus-master/data/source_txt/train/t5_economic_2_303.txt  \n",
            "  inflating: deft_corpus-master/data/source_txt/train/t6_sociology_0_0.txt  \n",
            "  inflating: deft_corpus-master/data/source_txt/train/t6_sociology_0_101.txt  \n",
            "  inflating: deft_corpus-master/data/source_txt/train/t6_sociology_1_0.txt  \n",
            "  inflating: deft_corpus-master/data/source_txt/train/t6_sociology_1_101.txt  \n",
            "  inflating: deft_corpus-master/data/source_txt/train/t6_sociology_2_0.txt  \n",
            "  inflating: deft_corpus-master/data/source_txt/train/t6_sociology_2_101.txt  \n",
            "  inflating: deft_corpus-master/data/source_txt/train/t7_government_0_0.txt  \n",
            "  inflating: deft_corpus-master/data/source_txt/train/t7_government_0_101.txt  \n",
            "  inflating: deft_corpus-master/data/source_txt/train/t7_government_0_202.txt  \n",
            "  inflating: deft_corpus-master/data/source_txt/train/t7_government_0_303.txt  \n",
            "  inflating: deft_corpus-master/data/source_txt/train/t7_government_0_404.txt  \n",
            "  inflating: deft_corpus-master/data/source_txt/train/t7_government_1_0.txt  \n",
            "  inflating: deft_corpus-master/data/source_txt/train/t7_government_1_101.txt  \n",
            "  inflating: deft_corpus-master/data/source_txt/train/t7_government_1_202.txt  \n",
            "  inflating: deft_corpus-master/data/source_txt/train/t7_government_1_303.txt  \n",
            "  inflating: deft_corpus-master/data/source_txt/train/t7_government_1_404.txt  \n",
            "  inflating: deft_corpus-master/data/source_txt/train/t7_government_2_0.txt  \n",
            "  inflating: deft_corpus-master/data/source_txt/train/t7_government_2_101.txt  \n",
            "  inflating: deft_corpus-master/data/source_txt/train/t7_government_2_202.txt  \n",
            "  inflating: deft_corpus-master/data/source_txt/train/t7_government_2_303.txt  \n",
            "  inflating: deft_corpus-master/data/source_txt/train/t7_government_2_404.txt  \n",
            "   creating: deft_corpus-master/evaluation/\n",
            "   creating: deft_corpus-master/evaluation/input/\n",
            "   creating: deft_corpus-master/evaluation/input/ref/\n",
            "  inflating: deft_corpus-master/evaluation/input/ref/task_1.deft  \n",
            "  inflating: deft_corpus-master/evaluation/input/ref/task_2.deft  \n",
            "  inflating: deft_corpus-master/evaluation/input/ref/task_3.deft  \n",
            "   creating: deft_corpus-master/evaluation/input/res/\n",
            "  inflating: deft_corpus-master/evaluation/input/res/task_1.deft  \n",
            "  inflating: deft_corpus-master/evaluation/input/res/task_2.deft  \n",
            "  inflating: deft_corpus-master/evaluation/input/res/task_3.deft  \n",
            "   creating: deft_corpus-master/evaluation/old/\n",
            "  inflating: deft_corpus-master/evaluation/old/README.md  \n",
            "   creating: deft_corpus-master/evaluation/old/configs/\n",
            "  inflating: deft_corpus-master/evaluation/old/configs/eval_test.yaml  \n",
            "   creating: deft_corpus-master/evaluation/old/data/\n",
            "  inflating: deft_corpus-master/evaluation/old/data/task_1_gold.deft  \n",
            "  inflating: deft_corpus-master/evaluation/old/data/task_1_pred.deft  \n",
            "  inflating: deft_corpus-master/evaluation/old/data/task_2_gold.deft  \n",
            "  inflating: deft_corpus-master/evaluation/old/data/task_2_pred.deft  \n",
            "  inflating: deft_corpus-master/evaluation/old/data/task_3_gold.deft  \n",
            "  inflating: deft_corpus-master/evaluation/old/data/task_3_pred.deft  \n",
            "  inflating: deft_corpus-master/evaluation/old/requirements.txt  \n",
            "  inflating: deft_corpus-master/evaluation/old/semeval2020_0601_eval.py  \n",
            "  inflating: deft_corpus-master/evaluation/old/semeval2020_0602_eval.py  \n",
            "  inflating: deft_corpus-master/evaluation/old/semeval2020_0603_eval.py  \n",
            "  inflating: deft_corpus-master/evaluation/old/semeval2020_06_evaluation_main.py  \n",
            "   creating: deft_corpus-master/evaluation/output/\n",
            "  inflating: deft_corpus-master/evaluation/output/scores.txt  \n",
            "   creating: deft_corpus-master/evaluation/program/\n",
            "   creating: deft_corpus-master/evaluation/program/configs/\n",
            "  inflating: deft_corpus-master/evaluation/program/configs/eval_test.yaml  \n",
            "  inflating: deft_corpus-master/evaluation/program/evaluation_sub1.py  \n",
            "  inflating: deft_corpus-master/evaluation/program/evaluation_sub2.py  \n",
            "  inflating: deft_corpus-master/evaluation/program/evaluation_sub3.py  \n",
            "  inflating: deft_corpus-master/evaluation/program/metadata  \n",
            "  inflating: deft_corpus-master/evaluation/program/semeval2020_06_evaluation_main.py  \n",
            "  inflating: deft_corpus-master/requirements.txt  \n",
            "  inflating: deft_corpus-master/task1_converter.py  \n"
          ],
          "name": "stdout"
        }
      ]
    },
    {
      "cell_type": "code",
      "metadata": {
        "id": "IIh_QRYVEWAZ",
        "colab_type": "code",
        "outputId": "d7958a7f-9236-475b-9019-7dcd27393ee0",
        "colab": {
          "base_uri": "https://localhost:8080/",
          "height": 34
        }
      },
      "source": [
        "! ls"
      ],
      "execution_count": 0,
      "outputs": [
        {
          "output_type": "stream",
          "text": [
            "deft_corpus-master  master.zip\tsample_data  testingFiles  trainingFiles\n"
          ],
          "name": "stdout"
        }
      ]
    },
    {
      "cell_type": "code",
      "metadata": {
        "id": "Gjar39dF_JaG",
        "colab_type": "code",
        "colab": {}
      },
      "source": [
        "! python3 deft_corpus-master/task1_converter.py deft_corpus-master/data/deft_files/train trainingFiles\n",
        "! python3 deft_corpus-master/task1_converter.py deft_corpus-master/data/deft_files/dev testingFiles"
      ],
      "execution_count": 0,
      "outputs": []
    },
    {
      "cell_type": "code",
      "metadata": {
        "id": "Z9vgvQfzwdZX",
        "colab_type": "code",
        "outputId": "fb3439d2-416d-42ba-f6ff-b1e9195ba024",
        "colab": {
          "base_uri": "https://localhost:8080/",
          "height": 207
        }
      },
      "source": [
        "# testing...\n",
        "! head trainingFiles/task_1_t1_biology_0_0.deft"
      ],
      "execution_count": 0,
      "outputs": [
        {
          "output_type": "stream",
          "text": [
            "\" 5 . Science includes such diverse fields as astronomy , biology , computer sciences , geology , logic , physics , chemistry , and mathematics ( [ link ] ) .\"\t\"0\"\n",
            "\" However , those fields of science related to the physical world and its phenomena and processes are considered natural sciences .\"\t\"1\"\n",
            "\" Thus , a museum of natural sciences might contain any of the items listed above .\"\t\"0\"\n",
            "\" 8 . In deductive reason , the pattern of thinking moves in the opposite direction as compared to inductive reasoning .\"\t\"0\"\n",
            "\" Deductive reasoning is a form of logical thinking that uses a general principle or law to forecast specific results .\"\t\"1\"\n",
            "\" From those general principles , a scientist can extrapolate and predict the specific results that would be valid as long as the general principles are valid .\"\t\"0\"\n",
            "\" 11 . Each experiment will have one or more variables and one or more controls .\"\t\"0\"\n",
            "\" A variable is any part of the experiment that can vary or change during the experiment .\"\t\"1\"\n",
            "\" The control group contains every feature of the experimental group except it is not given the manipulation that is hypothesized about .\"\t\"1\"\n",
            "\" 14 . In contrast , applied science or “ technology , ” aims to use science to solve real - world problems , making it possible , for example , to improve a crop yield , find a cure for a particular disease , or save animals threatened by a natural disaster ( [ link ] ) .\"\t\"1\"\n"
          ],
          "name": "stdout"
        }
      ]
    },
    {
      "cell_type": "code",
      "metadata": {
        "id": "pxDTDMMU6zEC",
        "colab_type": "code",
        "outputId": "4b7be569-a249-4fdc-9029-3794c9b45069",
        "colab": {
          "base_uri": "https://localhost:8080/",
          "height": 119
        }
      },
      "source": [
        "%load_ext cython\n",
        "import os\n",
        "import io\n",
        "import numpy as np\n",
        "import pandas as pd\n",
        "from pandas import DataFrame\n",
        "from sklearn.feature_extraction.text import CountVectorizer\n",
        "from sklearn.feature_extraction.text import TfidfVectorizer\n",
        "from sklearn.model_selection import train_test_split\n",
        "from sklearn.naive_bayes import MultinomialNB\n",
        "from sklearn.metrics import f1_score\n",
        "import nltk\n",
        "import re\n",
        "from nltk.stem import WordNetLemmatizer\n",
        "import time\n",
        "import multiprocessing\n",
        "from gensim.models import word2vec\n",
        "from bs4 import BeautifulSoup\n",
        "from sklearn.tree import DecisionTreeClassifier\n",
        "from sklearn.svm import SVC\n",
        "from sklearn.neighbors import KNeighborsClassifier\n",
        "from sklearn.metrics import accuracy_score\n",
        "from sklearn import linear_model\n",
        "from sklearn.metrics import roc_auc_score\n",
        "nltk.download('wordnet')\n",
        "nltk.download('punkt')\n",
        "nltk.download('stopwords')\n",
        "from nltk.corpus import stopwords\n",
        "from nltk.stem import WordNetLemmatizer\n",
        "from sklearn.model_selection import train_test_split\n",
        "import matplotlib.pyplot as plt\n",
        "%matplotlib inline\n",
        "\n",
        "import seaborn as sns\n",
        "sns.set_style(\"darkgrid\")\n",
        "\n",
        "from sklearn.decomposition import PCA\n",
        "from sklearn.manifold import TSNE\n",
        "\n",
        "import matplotlib.pyplot as plt; \n",
        "plt.rcdefaults()\n",
        "\n",
        "import statistics"
      ],
      "execution_count": 0,
      "outputs": [
        {
          "output_type": "stream",
          "text": [
            "[nltk_data] Downloading package wordnet to /root/nltk_data...\n",
            "[nltk_data]   Unzipping corpora/wordnet.zip.\n",
            "[nltk_data] Downloading package punkt to /root/nltk_data...\n",
            "[nltk_data]   Unzipping tokenizers/punkt.zip.\n",
            "[nltk_data] Downloading package stopwords to /root/nltk_data...\n",
            "[nltk_data]   Unzipping corpora/stopwords.zip.\n"
          ],
          "name": "stdout"
        }
      ]
    },
    {
      "cell_type": "code",
      "metadata": {
        "id": "y0TN9Xm8mlqp",
        "colab_type": "code",
        "colab": {}
      },
      "source": [
        "lemmatizer = WordNetLemmatizer()\n",
        "stops = set(stopwords.words('english'))\n",
        "\n",
        "from nltk.tokenize import RegexpTokenizer\n",
        "\n",
        "tokenizer = RegexpTokenizer(r'\\w+')\n",
        "\n",
        "def text_processing(text):\n",
        "    text = text.lower() \n",
        "    \n",
        "    #Split into individual words on whitespace and remove punctuation\n",
        "    words = tokenizer.tokenize(text)\n",
        "    # words = words.split()\n",
        "    \n",
        "    words = [lemmatizer.lemmatize(w) for w in words]   \n",
        "    \n",
        "    return ' '.join(words)"
      ],
      "execution_count": 0,
      "outputs": []
    },
    {
      "cell_type": "code",
      "metadata": {
        "id": "7sjEPUL16q-8",
        "colab_type": "code",
        "cellView": "both",
        "colab": {}
      },
      "source": [
        "def readFiles(directoryName, process):\n",
        "    tempDataFrames = []\n",
        "    for root, dirs, files in os.walk(directoryName):\n",
        "        for name in files:\n",
        "            path = os.path.join(root, name)\n",
        "            \n",
        "            # Data is a panda dataframe\n",
        "            data = pd.read_csv(path, sep=\"\\t\")\n",
        "            data.columns = [\"text\", \"classifier\"]\n",
        "            if process:\n",
        "                data[\"text\"] = data[\"text\"].apply(text_processing)\n",
        "\n",
        "            tempDataFrames.append(data)\n",
        "    return pd.concat(tempDataFrames, axis=0, ignore_index=False)"
      ],
      "execution_count": 0,
      "outputs": []
    },
    {
      "cell_type": "code",
      "metadata": {
        "id": "AkA4Fcf3zzFI",
        "colab_type": "code",
        "outputId": "cd42bfcd-9b82-4f57-defd-c3aca4c864d0",
        "colab": {
          "base_uri": "https://localhost:8080/",
          "height": 204
        }
      },
      "source": [
        "trainingFrame = readFiles(\"trainingFiles\", False)\n",
        "testingFrame = readFiles(\"testingFiles\", False)\n",
        "trainingFrame.head()"
      ],
      "execution_count": 0,
      "outputs": [
        {
          "output_type": "execute_result",
          "data": {
            "text/html": [
              "<div>\n",
              "<style scoped>\n",
              "    .dataframe tbody tr th:only-of-type {\n",
              "        vertical-align: middle;\n",
              "    }\n",
              "\n",
              "    .dataframe tbody tr th {\n",
              "        vertical-align: top;\n",
              "    }\n",
              "\n",
              "    .dataframe thead th {\n",
              "        text-align: right;\n",
              "    }\n",
              "</style>\n",
              "<table border=\"1\" class=\"dataframe\">\n",
              "  <thead>\n",
              "    <tr style=\"text-align: right;\">\n",
              "      <th></th>\n",
              "      <th>text</th>\n",
              "      <th>classifier</th>\n",
              "    </tr>\n",
              "  </thead>\n",
              "  <tbody>\n",
              "    <tr>\n",
              "      <th>0</th>\n",
              "      <td>A horizon is a soil layer with distinct physi...</td>\n",
              "      <td>1</td>\n",
              "    </tr>\n",
              "    <tr>\n",
              "      <th>1</th>\n",
              "      <td>Five factors account for soil formation : par...</td>\n",
              "      <td>0</td>\n",
              "    </tr>\n",
              "    <tr>\n",
              "      <th>2</th>\n",
              "      <td>1219 . Animals and microorganisms can produce...</td>\n",
              "      <td>0</td>\n",
              "    </tr>\n",
              "    <tr>\n",
              "      <th>3</th>\n",
              "      <td>Plant secretions promote the development of m...</td>\n",
              "      <td>1</td>\n",
              "    </tr>\n",
              "    <tr>\n",
              "      <th>4</th>\n",
              "      <td>Additionally , leaves and other material that...</td>\n",
              "      <td>0</td>\n",
              "    </tr>\n",
              "  </tbody>\n",
              "</table>\n",
              "</div>"
            ],
            "text/plain": [
              "                                                text  classifier\n",
              "0   A horizon is a soil layer with distinct physi...           1\n",
              "1   Five factors account for soil formation : par...           0\n",
              "2   1219 . Animals and microorganisms can produce...           0\n",
              "3   Plant secretions promote the development of m...           1\n",
              "4   Additionally , leaves and other material that...           0"
            ]
          },
          "metadata": {
            "tags": []
          },
          "execution_count": 8
        }
      ]
    },
    {
      "cell_type": "code",
      "metadata": {
        "id": "yUF1-hAwlnxG",
        "colab_type": "code",
        "colab": {}
      },
      "source": [
        "# trainingFrame, validationFrame = train_test_split(trainingFrame, test_size=0.1)"
      ],
      "execution_count": 0,
      "outputs": []
    },
    {
      "cell_type": "code",
      "metadata": {
        "id": "Dj54UiaQ3Wcn",
        "colab_type": "code",
        "colab": {}
      },
      "source": [
        "trainingFrame.reset_index(inplace=True)\n",
        "trainingFrame.sort_index(inplace=True)\n",
        "\n",
        "testingFrame.reset_index(inplace=True)\n",
        "testingFrame.sort_index(inplace=True)\n",
        "\n",
        "# validationFrame.reset_index(inplace=True)\n",
        "# validationFrame.sort_index(inplace=True)"
      ],
      "execution_count": 0,
      "outputs": []
    },
    {
      "cell_type": "code",
      "metadata": {
        "id": "QgOaOUTt4wdn",
        "colab_type": "code",
        "outputId": "53bfe60a-e431-485b-baba-1622d1c5875b",
        "colab": {
          "base_uri": "https://localhost:8080/",
          "height": 419
        }
      },
      "source": [
        "trainingFrame"
      ],
      "execution_count": 0,
      "outputs": [
        {
          "output_type": "execute_result",
          "data": {
            "text/html": [
              "<div>\n",
              "<style scoped>\n",
              "    .dataframe tbody tr th:only-of-type {\n",
              "        vertical-align: middle;\n",
              "    }\n",
              "\n",
              "    .dataframe tbody tr th {\n",
              "        vertical-align: top;\n",
              "    }\n",
              "\n",
              "    .dataframe thead th {\n",
              "        text-align: right;\n",
              "    }\n",
              "</style>\n",
              "<table border=\"1\" class=\"dataframe\">\n",
              "  <thead>\n",
              "    <tr style=\"text-align: right;\">\n",
              "      <th></th>\n",
              "      <th>index</th>\n",
              "      <th>text</th>\n",
              "      <th>classifier</th>\n",
              "    </tr>\n",
              "  </thead>\n",
              "  <tbody>\n",
              "    <tr>\n",
              "      <th>0</th>\n",
              "      <td>0</td>\n",
              "      <td>A horizon is a soil layer with distinct physi...</td>\n",
              "      <td>1</td>\n",
              "    </tr>\n",
              "    <tr>\n",
              "      <th>1</th>\n",
              "      <td>1</td>\n",
              "      <td>Five factors account for soil formation : par...</td>\n",
              "      <td>0</td>\n",
              "    </tr>\n",
              "    <tr>\n",
              "      <th>2</th>\n",
              "      <td>2</td>\n",
              "      <td>1219 . Animals and microorganisms can produce...</td>\n",
              "      <td>0</td>\n",
              "    </tr>\n",
              "    <tr>\n",
              "      <th>3</th>\n",
              "      <td>3</td>\n",
              "      <td>Plant secretions promote the development of m...</td>\n",
              "      <td>1</td>\n",
              "    </tr>\n",
              "    <tr>\n",
              "      <th>4</th>\n",
              "      <td>4</td>\n",
              "      <td>Additionally , leaves and other material that...</td>\n",
              "      <td>0</td>\n",
              "    </tr>\n",
              "    <tr>\n",
              "      <th>...</th>\n",
              "      <td>...</td>\n",
              "      <td>...</td>\n",
              "      <td>...</td>\n",
              "    </tr>\n",
              "    <tr>\n",
              "      <th>17285</th>\n",
              "      <td>167</td>\n",
              "      <td>Even though CDOs consisted of subprime mortga...</td>\n",
              "      <td>1</td>\n",
              "    </tr>\n",
              "    <tr>\n",
              "      <th>17286</th>\n",
              "      <td>168</td>\n",
              "      <td>2633 . In the 1990s , the idea of legal , sam...</td>\n",
              "      <td>0</td>\n",
              "    </tr>\n",
              "    <tr>\n",
              "      <th>17287</th>\n",
              "      <td>169</td>\n",
              "      <td>Things began to change , however , following ...</td>\n",
              "      <td>0</td>\n",
              "    </tr>\n",
              "    <tr>\n",
              "      <th>17288</th>\n",
              "      <td>170</td>\n",
              "      <td>Although it was the intention of the state to...</td>\n",
              "      <td>0</td>\n",
              "    </tr>\n",
              "    <tr>\n",
              "      <th>17289</th>\n",
              "      <td>171</td>\n",
              "      <td>2636 . Discontent over the Affordable Care Ac...</td>\n",
              "      <td>0</td>\n",
              "    </tr>\n",
              "  </tbody>\n",
              "</table>\n",
              "<p>17290 rows × 3 columns</p>\n",
              "</div>"
            ],
            "text/plain": [
              "       index                                               text  classifier\n",
              "0          0   A horizon is a soil layer with distinct physi...           1\n",
              "1          1   Five factors account for soil formation : par...           0\n",
              "2          2   1219 . Animals and microorganisms can produce...           0\n",
              "3          3   Plant secretions promote the development of m...           1\n",
              "4          4   Additionally , leaves and other material that...           0\n",
              "...      ...                                                ...         ...\n",
              "17285    167   Even though CDOs consisted of subprime mortga...           1\n",
              "17286    168   2633 . In the 1990s , the idea of legal , sam...           0\n",
              "17287    169   Things began to change , however , following ...           0\n",
              "17288    170   Although it was the intention of the state to...           0\n",
              "17289    171   2636 . Discontent over the Affordable Care Ac...           0\n",
              "\n",
              "[17290 rows x 3 columns]"
            ]
          },
          "metadata": {
            "tags": []
          },
          "execution_count": 11
        }
      ]
    },
    {
      "cell_type": "code",
      "metadata": {
        "id": "xf4di_Cx8dxt",
        "colab_type": "code",
        "outputId": "c804b63c-9302-4c1a-a3de-25e933b836ea",
        "colab": {
          "base_uri": "https://localhost:8080/",
          "height": 34
        }
      },
      "source": [
        "len(testingFrame)"
      ],
      "execution_count": 0,
      "outputs": [
        {
          "output_type": "execute_result",
          "data": {
            "text/plain": [
              "782"
            ]
          },
          "metadata": {
            "tags": []
          },
          "execution_count": 12
        }
      ]
    },
    {
      "cell_type": "code",
      "metadata": {
        "id": "WH8gSMrCB8ke",
        "colab_type": "code",
        "outputId": "fa6a89bc-2eea-4fd5-a57a-37b7a6538326",
        "colab": {
          "base_uri": "https://localhost:8080/",
          "height": 85
        }
      },
      "source": [
        "print(len(trainingFrame[trainingFrame.classifier==0]))\n",
        "print(len(trainingFrame[trainingFrame.classifier==1]))\n",
        "print(len(testingFrame[testingFrame.classifier==0]))\n",
        "print(len(testingFrame[testingFrame.classifier==1]))"
      ],
      "execution_count": 0,
      "outputs": [
        {
          "output_type": "stream",
          "text": [
            "11725\n",
            "5565\n",
            "531\n",
            "251\n"
          ],
          "name": "stdout"
        }
      ]
    },
    {
      "cell_type": "code",
      "metadata": {
        "id": "KngrPYmzFxmL",
        "colab_type": "code",
        "colab": {}
      },
      "source": [
        "trainingFrame_classifiers = trainingFrame[\"classifier\"]\n",
        "trainingFrame_text = trainingFrame[\"text\"]\n",
        "\n",
        "testingFrame_classifiers = testingFrame[\"classifier\"]\n",
        "testingFrame_text = testingFrame[\"text\"]\n",
        "\n",
        "testingFrame_classifiers = testingFrame_classifiers.to_numpy('int')\n",
        "trainingFrame_classifiers = trainingFrame_classifiers.to_numpy('int')"
      ],
      "execution_count": 0,
      "outputs": []
    },
    {
      "cell_type": "code",
      "metadata": {
        "id": "PoqjD0cRHklI",
        "colab_type": "code",
        "colab": {}
      },
      "source": [
        "# max_features = 30000\n",
        "cvnoignore = CountVectorizer(analyzer='word')\n",
        "#cvnoignore=CountVectorizer(min_df=1,stop_words='english', analyzer='word')\n",
        "cvignore = TfidfVectorizer(min_df=1,stop_words='english', analyzer='word')\n",
        "#cvignore=TfidfVectorizer()"
      ],
      "execution_count": 0,
      "outputs": []
    },
    {
      "cell_type": "code",
      "metadata": {
        "id": "cioxRo7SK_vn",
        "colab_type": "code",
        "colab": {}
      },
      "source": [
        "training_cvnoignore=cvnoignore.fit_transform(trainingFrame_text)\n",
        "training_cvignore=cvignore.fit_transform(trainingFrame_text)"
      ],
      "execution_count": 0,
      "outputs": []
    },
    {
      "cell_type": "code",
      "metadata": {
        "id": "Qmo1QlyCMnNw",
        "colab_type": "code",
        "colab": {}
      },
      "source": [
        "mnbnoignore=MultinomialNB()\n",
        "mnbignore=MultinomialNB()"
      ],
      "execution_count": 0,
      "outputs": []
    },
    {
      "cell_type": "code",
      "metadata": {
        "id": "m9wOYj5QUFPY",
        "colab_type": "code",
        "outputId": "4cb86e9f-bfb3-4b9a-f951-7b3eb92b1d77",
        "colab": {
          "base_uri": "https://localhost:8080/",
          "height": 170
        }
      },
      "source": [
        "mnbnoignore.fit(training_cvnoignore,trainingFrame_classifiers)\n",
        "mnbignore.fit(training_cvignore,trainingFrame_classifiers)\n",
        "testing_cvnoignore=cvnoignore.transform(testingFrame_text)\n",
        "testing_cvignore=cvignore.transform(testingFrame_text)\n",
        "\n",
        "prednoignore=mnbnoignore.predict(testing_cvnoignore)\n",
        "predignore=mnbignore.predict(testing_cvignore)\n",
        "print(accuracy_score(testingFrame_classifiers, prednoignore))\n",
        "print(f1_score(testingFrame_classifiers,prednoignore,average='macro'))\n",
        "print(f1_score(testingFrame_classifiers,predignore,average='macro'))\n",
        "print(f1_score(testingFrame_classifiers,prednoignore,average='micro'))\n",
        "print(f1_score(testingFrame_classifiers,predignore,average='micro'))\n",
        "print(f1_score(testingFrame_classifiers,prednoignore,average='binary'))\n",
        "print(f1_score(testingFrame_classifiers,predignore,average='binary'))\n",
        "print(f1_score(testingFrame_classifiers,prednoignore,pos_label=1))\n",
        "print(f1_score(testingFrame_classifiers,predignore,pos_label=1))"
      ],
      "execution_count": 0,
      "outputs": [
        {
          "output_type": "stream",
          "text": [
            "0.7583120204603581\n",
            "0.7200811359026369\n",
            "0.5725602605194479\n",
            "0.7583120204603581\n",
            "0.7276214833759591\n",
            "0.6166328600405679\n",
            "0.315112540192926\n",
            "0.6166328600405679\n",
            "0.315112540192926\n"
          ],
          "name": "stdout"
        }
      ]
    },
    {
      "cell_type": "code",
      "metadata": {
        "id": "XJ-g_1HzhD2Z",
        "colab_type": "code",
        "outputId": "8352cb56-771a-47b1-ab92-e73cbf5ac90e",
        "colab": {
          "base_uri": "https://localhost:8080/",
          "height": 68
        }
      },
      "source": [
        "print (len(prednoignore))\n",
        "a=training_cvignore.toarray()\n",
        "print(len(a[0]))\n",
        "b=training_cvnoignore.toarray()\n",
        "print(len(b[0]))"
      ],
      "execution_count": 0,
      "outputs": [
        {
          "output_type": "stream",
          "text": [
            "782\n",
            "26841\n",
            "27125\n"
          ],
          "name": "stdout"
        }
      ]
    },
    {
      "cell_type": "code",
      "metadata": {
        "id": "yHeL7p94rbWB",
        "colab_type": "code",
        "colab": {}
      },
      "source": [
        "sentences = [sent.split() for sent in trainingFrame_text]"
      ],
      "execution_count": 0,
      "outputs": []
    },
    {
      "cell_type": "code",
      "metadata": {
        "id": "RDgdBe4UdXEX",
        "colab_type": "code",
        "colab": {}
      },
      "source": [
        "from gensim.test.utils import common_texts, get_tmpfile\n",
        "from gensim.models import Word2Vec\n",
        "\n",
        "num_features = 300    # Word vector dimensionality                      \n",
        "min_word_count = 1   # Minimum word count                        \n",
        "cores = multiprocessing.cpu_count()       # Number of threads to run in parallel\n",
        "context = 5         # Context window size                                                                                    \n",
        "\n",
        "model = word2vec.Word2Vec(sentences, workers=cores - 1, \\\n",
        "            size=num_features, min_count = min_word_count, \\\n",
        "            window = context, iter=6)\n",
        "\n",
        "model.train(sentences=sentences, total_examples=len(sentences), epochs=10)\n",
        "\n",
        "model.init_sims(replace=True)"
      ],
      "execution_count": 0,
      "outputs": []
    },
    {
      "cell_type": "code",
      "metadata": {
        "id": "6WRY4rI0TtTA",
        "colab_type": "code",
        "outputId": "9baacdf1-3605-4fb2-811c-435de543e6f9",
        "colab": {
          "base_uri": "https://localhost:8080/",
          "height": 34
        }
      },
      "source": [
        "model.wv.vectors.shape"
      ],
      "execution_count": 0,
      "outputs": [
        {
          "output_type": "execute_result",
          "data": {
            "text/plain": [
              "(30912, 300)"
            ]
          },
          "metadata": {
            "tags": []
          },
          "execution_count": 22
        }
      ]
    },
    {
      "cell_type": "code",
      "metadata": {
        "id": "flcZsKYVUjeK",
        "colab_type": "code",
        "outputId": "a4025163-6f91-4e5b-935d-c62955103088",
        "colab": {
          "base_uri": "https://localhost:8080/",
          "height": 275
        }
      },
      "source": [
        "numWords = 0\n",
        "sentenceSize = []\n",
        "def getVecForSent(sent, vocab_set):\n",
        "    global numWords, sentenceSize\n",
        "    vec = np.zeros(num_features, dtype=\"float32\")\n",
        "    num_words_in_sent = 0\n",
        "    # sent = sent.split(' ')\n",
        "    newsent = sent.split(' ')\n",
        "    for word in newsent:\n",
        "        if word in vocab_set:\n",
        "            vec = np.add(vec, model[word])\n",
        "            num_words_in_sent += 1\n",
        "\n",
        "    \n",
        "    numWords += num_words_in_sent\n",
        "    sentenceSize.append(num_words_in_sent)\n",
        "\n",
        "    if num_words_in_sent == 0:\n",
        "        return vec\n",
        "    \n",
        "    vec = np.divide(vec, num_words_in_sent)\n",
        "    return vec\n",
        "\n",
        "def getAverageFeatureVectors(df):\n",
        "    global numWords, sentenceSize\n",
        "    vocab_set = set(model.wv.index2word)\n",
        "    numWords = 0\n",
        "    sentenceSize = []\n",
        "    \n",
        "    featureVecs = np.zeros((len(df), num_features),dtype=\"float32\")\n",
        "\n",
        "    for i, sent in enumerate(df):\n",
        "        vec = getVecForSent(sent, vocab_set)\n",
        "        featureVecs[i] = vec\n",
        "\n",
        "    print('\\n\\n*********************************************')\n",
        "    print('Average word size of sentence ', numWords // len(df))\n",
        "    print('Standard deviation : ' , statistics.stdev(sentenceSize))\n",
        "    print('*********************************************')\n",
        "\n",
        "    \n",
        "    return featureVecs\n",
        "\n",
        "\n",
        "trainingFeatureVecs = getAverageFeatureVectors(trainingFrame_text)\n",
        "testingFeatureVecs = getAverageFeatureVectors(testingFrame_text)"
      ],
      "execution_count": 0,
      "outputs": [
        {
          "output_type": "stream",
          "text": [
            "/usr/local/lib/python3.6/dist-packages/ipykernel_launcher.py:11: DeprecationWarning: Call to deprecated `__getitem__` (Method will be removed in 4.0.0, use self.wv.__getitem__() instead).\n",
            "  # This is added back by InteractiveShellApp.init_path()\n"
          ],
          "name": "stderr"
        },
        {
          "output_type": "stream",
          "text": [
            "\n",
            "\n",
            "*********************************************\n",
            "Average word size of sentence  26\n",
            "Standard deviation :  12.908541369472127\n",
            "*********************************************\n",
            "\n",
            "\n",
            "*********************************************\n",
            "Average word size of sentence  24\n",
            "Standard deviation :  12.198288827741967\n",
            "*********************************************\n"
          ],
          "name": "stdout"
        }
      ]
    },
    {
      "cell_type": "code",
      "metadata": {
        "id": "cS008lLgiVfV",
        "colab_type": "code",
        "outputId": "84dce1a4-f017-4e5d-fb32-82c1ad1d2f70",
        "colab": {
          "base_uri": "https://localhost:8080/",
          "height": 34
        }
      },
      "source": [
        "len(trainingFrame_text)"
      ],
      "execution_count": 0,
      "outputs": [
        {
          "output_type": "execute_result",
          "data": {
            "text/plain": [
              "17290"
            ]
          },
          "metadata": {
            "tags": []
          },
          "execution_count": 24
        }
      ]
    },
    {
      "cell_type": "code",
      "metadata": {
        "id": "lYansprKgD23",
        "colab_type": "code",
        "outputId": "19b3fd0d-5a4c-44bb-dbfa-d2e3e5bd095a",
        "colab": {
          "base_uri": "https://localhost:8080/",
          "height": 51
        }
      },
      "source": [
        "print(len(model.wv.vocab))\n",
        "l = set([w for s in sentences for w in s])\n",
        "print(len(l))"
      ],
      "execution_count": 0,
      "outputs": [
        {
          "output_type": "stream",
          "text": [
            "30912\n",
            "30912\n"
          ],
          "name": "stdout"
        }
      ]
    },
    {
      "cell_type": "code",
      "metadata": {
        "id": "-DvE4oTo4udq",
        "colab_type": "code",
        "outputId": "f7e09c0c-e285-4fc7-ce58-4ab54f269502",
        "colab": {
          "base_uri": "https://localhost:8080/",
          "height": 357
        }
      },
      "source": [
        "list(model.wv.vocab)[0:20]"
      ],
      "execution_count": 0,
      "outputs": [
        {
          "output_type": "execute_result",
          "data": {
            "text/plain": [
              "['A',\n",
              " 'horizon',\n",
              " 'is',\n",
              " 'a',\n",
              " 'soil',\n",
              " 'layer',\n",
              " 'with',\n",
              " 'distinct',\n",
              " 'physical',\n",
              " 'and',\n",
              " 'chemical',\n",
              " 'properties',\n",
              " 'that',\n",
              " 'differ',\n",
              " 'from',\n",
              " 'those',\n",
              " 'of',\n",
              " 'other',\n",
              " 'layers',\n",
              " '.']"
            ]
          },
          "metadata": {
            "tags": []
          },
          "execution_count": 26
        }
      ]
    },
    {
      "cell_type": "code",
      "metadata": {
        "id": "rvc9WW9hDyHV",
        "colab_type": "code",
        "outputId": "e139ba22-f5fd-4aaa-90a0-b8f80a0a0e9c",
        "colab": {
          "base_uri": "https://localhost:8080/",
          "height": 275
        }
      },
      "source": [
        "model.most_similar('correct')"
      ],
      "execution_count": 0,
      "outputs": [
        {
          "output_type": "stream",
          "text": [
            "/usr/local/lib/python3.6/dist-packages/ipykernel_launcher.py:1: DeprecationWarning: Call to deprecated `most_similar` (Method will be removed in 4.0.0, use self.wv.most_similar() instead).\n",
            "  \"\"\"Entry point for launching an IPython kernel.\n",
            "/usr/local/lib/python3.6/dist-packages/gensim/matutils.py:737: FutureWarning: Conversion of the second argument of issubdtype from `int` to `np.signedinteger` is deprecated. In future, it will be treated as `np.int64 == np.dtype(int).type`.\n",
            "  if np.issubdtype(vec.dtype, np.int):\n"
          ],
          "name": "stderr"
        },
        {
          "output_type": "execute_result",
          "data": {
            "text/plain": [
              "[('finding', 0.8988226056098938),\n",
              " ('reference', 0.8896781206130981),\n",
              " ('task', 0.8659782409667969),\n",
              " ('advantage', 0.8649898767471313),\n",
              " ('answer', 0.8622455596923828),\n",
              " ('appears', 0.8535652756690979),\n",
              " ('validity', 0.8529783487319946),\n",
              " ('fraction', 0.8520983457565308),\n",
              " ('application', 0.8506165742874146),\n",
              " ('completion', 0.8503789305686951)]"
            ]
          },
          "metadata": {
            "tags": []
          },
          "execution_count": 27
        }
      ]
    },
    {
      "cell_type": "code",
      "metadata": {
        "id": "gLq6UeKR0YVr",
        "colab_type": "code",
        "colab": {}
      },
      "source": [
        "def printInfo(prediction, actual, typeStr):\n",
        "    sz = len(prediction)\n",
        "    assert(len(prediction) == len(actual))\n",
        "\n",
        "    tp = fp = tn = fn = 0\n",
        "    for i in range(sz):\n",
        "        if actual[i] == 1:\n",
        "            if prediction[i] == 1:\n",
        "                tp += 1\n",
        "            else:\n",
        "                fp += 1\n",
        "        else:\n",
        "            if prediction[i] == 0:\n",
        "                tn += 1\n",
        "            else:\n",
        "                fn += 1\n",
        "    print(\"Total size\", sz)\n",
        "    print(\"True positive\", tp)\n",
        "    print(\"True negative\", tn)\n",
        "    print(\"False positive\", fp)\n",
        "    print(\"False negative\", fn, '\\n\\n')\n",
        "\n",
        "    objects = ('TP', 'TN', 'FP', 'FN')\n",
        "    y_pos = np.arange(len(objects))\n",
        "    performance = [tp, tn, fp, fn]\n",
        "\n",
        "    plt.bar(y_pos, performance, align='center', alpha=0.5)\n",
        "    plt.xticks(y_pos, objects)\n",
        "    title = 'Confusion matrix ' + typeStr\n",
        "    plt.title(title)\n",
        "    plt.show()\n",
        "\n",
        "# printInfo(result, testingFrame_classifiers, 'KNN')"
      ],
      "execution_count": 0,
      "outputs": []
    },
    {
      "cell_type": "code",
      "metadata": {
        "id": "t0HX-O4ejNGq",
        "colab_type": "code",
        "outputId": "f9b4e579-f8ab-4e62-af32-3dda961de0a5",
        "colab": {
          "base_uri": "https://localhost:8080/",
          "height": 571
        }
      },
      "source": [
        "printInfo(prednoignore, testingFrame_classifiers, 'Naive Bayes')"
      ],
      "execution_count": 0,
      "outputs": [
        {
          "output_type": "stream",
          "text": [
            "Total size 782\n",
            "True positive 152\n",
            "True negative 441\n",
            "False positive 99\n",
            "False negative 90 \n",
            "\n",
            "\n"
          ],
          "name": "stdout"
        },
        {
          "output_type": "display_data",
          "data": {
            "image/png": "[encoded data removed]",
            "text/plain": [
              "<Figure size 640x480 with 1 Axes>"
            ]
          },
          "metadata": {
            "tags": []
          }
        }
      ]
    },
    {
      "cell_type": "code",
      "metadata": {
        "id": "BVfamT27ZwA-",
        "colab_type": "code",
        "outputId": "0d29c187-f455-4496-bb0a-9f629229936e",
        "colab": {
          "base_uri": "https://localhost:8080/",
          "height": 826
        }
      },
      "source": [
        "from sklearn.linear_model import LogisticRegression\n",
        "from sklearn.metrics import classification_report\n",
        "\n",
        "target_names = ['not a definition', 'is a definition']\n",
        "\n",
        "forest = LogisticRegression().fit( trainingFeatureVecs, trainingFrame_classifiers)\n",
        "\n",
        "result = forest.predict( testingFeatureVecs )\n",
        "\n",
        "print(classification_report(testingFrame_classifiers, result, target_names=target_names))\n",
        "print('\\n\\ntotal f1 score', f1_score(testingFrame_classifiers, result, average='binary'))\n",
        "print('total accuracy', accuracy_score(testingFrame_classifiers, result), '\\n\\n')\n",
        "\n",
        "printInfo(result, testingFrame_classifiers, 'Logistic Regression')"
      ],
      "execution_count": 0,
      "outputs": [
        {
          "output_type": "stream",
          "text": [
            "                  precision    recall  f1-score   support\n",
            "\n",
            "not a definition       0.74      0.92      0.82       531\n",
            " is a definition       0.65      0.33      0.43       251\n",
            "\n",
            "        accuracy                           0.73       782\n",
            "       macro avg       0.69      0.62      0.63       782\n",
            "    weighted avg       0.71      0.73      0.70       782\n",
            "\n",
            "\n",
            "\n",
            "total f1 score 0.4338624338624339\n",
            "total accuracy 0.7263427109974424 \n",
            "\n",
            "\n",
            "Total size 782\n",
            "True positive 82\n",
            "True negative 486\n",
            "False positive 169\n",
            "False negative 45 \n",
            "\n",
            "\n"
          ],
          "name": "stdout"
        },
        {
          "output_type": "display_data",
          "data": {
            "image/png": "[encoded data removed]",
            "text/plain": [
              "<Figure size 640x480 with 1 Axes>"
            ]
          },
          "metadata": {
            "tags": []
          }
        }
      ]
    },
    {
      "cell_type": "code",
      "metadata": {
        "id": "GTQhjtcpshTL",
        "colab_type": "code",
        "outputId": "396365ed-91bd-4a82-a6aa-e1e67c2bdf92",
        "colab": {
          "base_uri": "https://localhost:8080/",
          "height": 826
        }
      },
      "source": [
        "classifier_model = KNeighborsClassifier(n_neighbors=20)\n",
        "\n",
        "clf = classifier_model.fit( trainingFeatureVecs, trainingFrame_classifiers )\n",
        "\n",
        "result = clf.predict( testingFeatureVecs )\n",
        "\n",
        "\n",
        "print(classification_report(testingFrame_classifiers, result, target_names=target_names))\n",
        "print('\\n\\ntotal f1 score', f1_score(testingFrame_classifiers, result, average='binary'))\n",
        "print('total accuracy', accuracy_score(testingFrame_classifiers, result), '\\n\\n')\n",
        "\n",
        "printInfo(result, testingFrame_classifiers, 'K neighbours')"
      ],
      "execution_count": 0,
      "outputs": [
        {
          "output_type": "stream",
          "text": [
            "                  precision    recall  f1-score   support\n",
            "\n",
            "not a definition       0.75      0.87      0.80       531\n",
            " is a definition       0.58      0.37      0.45       251\n",
            "\n",
            "        accuracy                           0.71       782\n",
            "       macro avg       0.66      0.62      0.63       782\n",
            "    weighted avg       0.69      0.71      0.69       782\n",
            "\n",
            "\n",
            "\n",
            "total f1 score 0.45255474452554745\n",
            "total accuracy 0.7122762148337596 \n",
            "\n",
            "\n",
            "Total size 782\n",
            "True positive 93\n",
            "True negative 464\n",
            "False positive 158\n",
            "False negative 67 \n",
            "\n",
            "\n"
          ],
          "name": "stdout"
        },
        {
          "output_type": "display_data",
          "data": {
            "image/png": "[encoded data removed]",
            "text/plain": [
              "<Figure size 640x480 with 1 Axes>"
            ]
          },
          "metadata": {
            "tags": []
          }
        }
      ]
    },
    {
      "cell_type": "code",
      "metadata": {
        "id": "jSmUFV12xMC3",
        "colab_type": "code",
        "outputId": "def8a932-f10b-4525-e376-650ef6349174",
        "colab": {
          "base_uri": "https://localhost:8080/",
          "height": 826
        }
      },
      "source": [
        "\n",
        "classifier_model = DecisionTreeClassifier()\n",
        "\n",
        "clf = classifier_model.fit( trainingFeatureVecs, trainingFrame_classifiers )\n",
        "\n",
        "result = clf.predict( testingFeatureVecs )\n",
        "\n",
        "print(classification_report(testingFrame_classifiers, result, target_names=target_names))\n",
        "print('\\n\\ntotal f1 score', f1_score(testingFrame_classifiers, result, average='binary'))\n",
        "print('total accuracy', accuracy_score(testingFrame_classifiers, result), '\\n\\n')\n",
        "\n",
        "\n",
        "printInfo(result, testingFrame_classifiers, 'Decision tree')"
      ],
      "execution_count": 0,
      "outputs": [
        {
          "output_type": "stream",
          "text": [
            "                  precision    recall  f1-score   support\n",
            "\n",
            "not a definition       0.77      0.73      0.75       531\n",
            " is a definition       0.49      0.53      0.51       251\n",
            "\n",
            "        accuracy                           0.67       782\n",
            "       macro avg       0.63      0.63      0.63       782\n",
            "    weighted avg       0.68      0.67      0.67       782\n",
            "\n",
            "\n",
            "\n",
            "total f1 score 0.5095057034220531\n",
            "total accuracy 0.670076726342711 \n",
            "\n",
            "\n",
            "Total size 782\n",
            "True positive 134\n",
            "True negative 390\n",
            "False positive 117\n",
            "False negative 141 \n",
            "\n",
            "\n"
          ],
          "name": "stdout"
        },
        {
          "output_type": "display_data",
          "data": {
            "image/png": "[encoded data removed]",
            "text/plain": [
              "<Figure size 640x480 with 1 Axes>"
            ]
          },
          "metadata": {
            "tags": []
          }
        }
      ]
    },
    {
      "cell_type": "code",
      "metadata": {
        "id": "R3BNx6jbILeZ",
        "colab_type": "code",
        "outputId": "27335447-111e-4e30-ea86-0f1edd014133",
        "colab": {
          "base_uri": "https://localhost:8080/",
          "height": 826
        }
      },
      "source": [
        "from sklearn.ensemble import RandomForestClassifier\n",
        "classifier_model = RandomForestClassifier()\n",
        "\n",
        "clf = classifier_model.fit( trainingFeatureVecs, trainingFrame_classifiers)\n",
        "\n",
        "result = clf.predict( testingFeatureVecs )\n",
        "\n",
        "print(classification_report(testingFrame_classifiers, result, target_names=target_names))\n",
        "print('\\n\\ntotal f1 score', f1_score(testingFrame_classifiers, result, average='binary'))\n",
        "print('total accuracy', accuracy_score(testingFrame_classifiers, result), '\\n\\n')\n",
        "\n",
        "\n",
        "printInfo(result, testingFrame_classifiers, 'Random forest')"
      ],
      "execution_count": 0,
      "outputs": [
        {
          "output_type": "stream",
          "text": [
            "                  precision    recall  f1-score   support\n",
            "\n",
            "not a definition       0.78      0.92      0.84       531\n",
            " is a definition       0.73      0.45      0.56       251\n",
            "\n",
            "        accuracy                           0.77       782\n",
            "       macro avg       0.75      0.69      0.70       782\n",
            "    weighted avg       0.76      0.77      0.75       782\n",
            "\n",
            "\n",
            "\n",
            "total f1 score 0.5566502463054186\n",
            "total accuracy 0.7698209718670077 \n",
            "\n",
            "\n",
            "Total size 782\n",
            "True positive 113\n",
            "True negative 489\n",
            "False positive 138\n",
            "False negative 42 \n",
            "\n",
            "\n"
          ],
          "name": "stdout"
        },
        {
          "output_type": "display_data",
          "data": {
            "image/png": "[encoded data removed]",
            "text/plain": [
              "<Figure size 640x480 with 1 Axes>"
            ]
          },
          "metadata": {
            "tags": []
          }
        }
      ]
    },
    {
      "cell_type": "code",
      "metadata": {
        "id": "uCkLe3o3dCtW",
        "colab_type": "code",
        "colab": {}
      },
      "source": [
        "# from sklearn.neural_network import MLPClassifier\n",
        "\n",
        "# clf = MLPClassifier(hidden_layer_sizes=(100, 100, 100), max_iter=2000, alpha=0.0001,\n",
        "#                      solver='sgd',  verbose=True, random_state=21,tol=0.00001)\n",
        "\n",
        "# clf.fit(trainingFeatureVecs, trainingFrame_classifiers)\n",
        "\n",
        "# result = clf.predict( testingFeatureVecs )\n",
        "# print(f1_score(testingFrame_classifiers, result, average='binary'))\n",
        "# print(accuracy_score(testingFrame_classifiers, result))\n",
        "# printInfo(result, testingFrame_classifiers, 'MLP')"
      ],
      "execution_count": 0,
      "outputs": []
    },
    {
      "cell_type": "code",
      "metadata": {
        "id": "VSXigcNFDw0a",
        "colab_type": "code",
        "outputId": "80db9f37-db89-4949-cca7-9359a665b12d",
        "colab": {
          "base_uri": "https://localhost:8080/",
          "height": 996
        }
      },
      "source": [
        "mnbnoignore=LogisticRegression()\n",
        "mnbnoignore.fit(training_cvnoignore,trainingFrame_classifiers)\n",
        "testing_cvnoignore=cvnoignore.transform(testingFrame_text)\n",
        "prednoignore=mnbnoignore.predict(testing_cvnoignore)\n",
        "print(accuracy_score(testingFrame_classifiers, prednoignore))\n",
        "print(f1_score(testingFrame_classifiers,prednoignore,average='binary'))\n",
        "print(classification_report(testingFrame_classifiers, prednoignore, target_names=target_names))\n",
        "print('\\n\\ntotal f1 score', f1_score(testingFrame_classifiers, prednoignore, average='binary'))\n",
        "print('total accuracy', accuracy_score(testingFrame_classifiers, prednoignore), '\\n\\n')\n",
        "printInfo(prednoignore, testingFrame_classifiers, 'logistic regression')"
      ],
      "execution_count": 0,
      "outputs": [
        {
          "output_type": "stream",
          "text": [
            "/usr/local/lib/python3.6/dist-packages/sklearn/linear_model/_logistic.py:940: ConvergenceWarning: lbfgs failed to converge (status=1):\n",
            "STOP: TOTAL NO. of ITERATIONS REACHED LIMIT.\n",
            "\n",
            "Increase the number of iterations (max_iter) or scale the data as shown in:\n",
            "    https://scikit-learn.org/stable/modules/preprocessing.html\n",
            "Please also refer to the documentation for alternative solver options:\n",
            "    https://scikit-learn.org/stable/modules/linear_model.html#logistic-regression\n",
            "  extra_warning_msg=_LOGISTIC_SOLVER_CONVERGENCE_MSG)\n"
          ],
          "name": "stderr"
        },
        {
          "output_type": "stream",
          "text": [
            "0.7941176470588235\n",
            "0.653763440860215\n",
            "                  precision    recall  f1-score   support\n",
            "\n",
            "not a definition       0.83      0.88      0.85       531\n",
            " is a definition       0.71      0.61      0.65       251\n",
            "\n",
            "        accuracy                           0.79       782\n",
            "       macro avg       0.77      0.74      0.75       782\n",
            "    weighted avg       0.79      0.79      0.79       782\n",
            "\n",
            "\n",
            "\n",
            "total f1 score 0.653763440860215\n",
            "total accuracy 0.7941176470588235 \n",
            "\n",
            "\n",
            "Total size 782\n",
            "True positive 152\n",
            "True negative 469\n",
            "False positive 99\n",
            "False negative 62 \n",
            "\n",
            "\n"
          ],
          "name": "stdout"
        },
        {
          "output_type": "display_data",
          "data": {
            "image/png": "[encoded data removed]",
            "text/plain": [
              "<Figure size 640x480 with 1 Axes>"
            ]
          },
          "metadata": {
            "tags": []
          }
        }
      ]
    },
    {
      "cell_type": "code",
      "metadata": {
        "id": "Why937xwFoIB",
        "colab_type": "code",
        "outputId": "38a9cfff-f965-4b9d-aa0e-682cfd488660",
        "colab": {
          "base_uri": "https://localhost:8080/",
          "height": 860
        }
      },
      "source": [
        "mnbnoignore=DecisionTreeClassifier()\n",
        "mnbnoignore.fit(training_cvnoignore,trainingFrame_classifiers)\n",
        "testing_cvnoignore=cvnoignore.transform(testingFrame_text)\n",
        "prednoignore=mnbnoignore.predict(testing_cvnoignore)\n",
        "print(accuracy_score(testingFrame_classifiers, prednoignore))\n",
        "print(f1_score(testingFrame_classifiers,prednoignore,average='binary'))\n",
        "print(classification_report(testingFrame_classifiers, prednoignore, target_names=target_names))\n",
        "print('\\n\\ntotal f1 score', f1_score(testingFrame_classifiers, prednoignore, average='binary'))\n",
        "print('total accuracy', accuracy_score(testingFrame_classifiers, prednoignore), '\\n\\n')\n",
        "printInfo(prednoignore, testingFrame_classifiers, 'Decision tree')"
      ],
      "execution_count": 0,
      "outputs": [
        {
          "output_type": "stream",
          "text": [
            "0.7736572890025576\n",
            "0.6242038216560509\n",
            "                  precision    recall  f1-score   support\n",
            "\n",
            "not a definition       0.81      0.86      0.84       531\n",
            " is a definition       0.67      0.59      0.62       251\n",
            "\n",
            "        accuracy                           0.77       782\n",
            "       macro avg       0.74      0.72      0.73       782\n",
            "    weighted avg       0.77      0.77      0.77       782\n",
            "\n",
            "\n",
            "\n",
            "total f1 score 0.6242038216560509\n",
            "total accuracy 0.7736572890025576 \n",
            "\n",
            "\n",
            "Total size 782\n",
            "True positive 147\n",
            "True negative 458\n",
            "False positive 104\n",
            "False negative 73 \n",
            "\n",
            "\n"
          ],
          "name": "stdout"
        },
        {
          "output_type": "display_data",
          "data": {
            "image/png": "[encoded data removed]",
            "text/plain": [
              "<Figure size 640x480 with 1 Axes>"
            ]
          },
          "metadata": {
            "tags": []
          }
        }
      ]
    },
    {
      "cell_type": "code",
      "metadata": {
        "id": "iAH6ZCQfF5Ch",
        "colab_type": "code",
        "outputId": "3a74147c-6a9b-4b6d-dbe3-18d2e61bb071",
        "colab": {
          "base_uri": "https://localhost:8080/",
          "height": 894
        }
      },
      "source": [
        "from sklearn import metrics\n",
        "mnbnoignore=RandomForestClassifier()\n",
        "mnbnoignore.fit(training_cvnoignore,trainingFrame_classifiers)\n",
        "testing_cvnoignore=cvnoignore.transform(testingFrame_text)\n",
        "prednoignore=mnbnoignore.predict(testing_cvnoignore)\n",
        "print(accuracy_score(testingFrame_classifiers, prednoignore))\n",
        "print(f1_score(testingFrame_classifiers,prednoignore,average='binary'))\n",
        "print(classification_report(testingFrame_classifiers, prednoignore, target_names=target_names))\n",
        "print('\\n\\ntotal f1 score', f1_score(testingFrame_classifiers, prednoignore, average='binary'))\n",
        "print('total accuracy', accuracy_score(testingFrame_classifiers, prednoignore), '\\n\\n')\n",
        "printInfo(prednoignore, testingFrame_classifiers, 'random forest')\n",
        "print(metrics.confusion_matrix(testingFrame_classifiers, prednoignore))"
      ],
      "execution_count": 0,
      "outputs": [
        {
          "output_type": "stream",
          "text": [
            "0.789002557544757\n",
            "0.56\n",
            "                  precision    recall  f1-score   support\n",
            "\n",
            "not a definition       0.78      0.96      0.86       531\n",
            " is a definition       0.85      0.42      0.56       251\n",
            "\n",
            "        accuracy                           0.79       782\n",
            "       macro avg       0.81      0.69      0.71       782\n",
            "    weighted avg       0.80      0.79      0.76       782\n",
            "\n",
            "\n",
            "\n",
            "total f1 score 0.56\n",
            "total accuracy 0.789002557544757 \n",
            "\n",
            "\n",
            "Total size 782\n",
            "True positive 105\n",
            "True negative 512\n",
            "False positive 146\n",
            "False negative 19 \n",
            "\n",
            "\n"
          ],
          "name": "stdout"
        },
        {
          "output_type": "display_data",
          "data": {
            "image/png": "[encoded data removed]",
            "text/plain": [
              "<Figure size 640x480 with 1 Axes>"
            ]
          },
          "metadata": {
            "tags": []
          }
        },
        {
          "output_type": "stream",
          "text": [
            "[[512  19]\n",
            " [146 105]]\n"
          ],
          "name": "stdout"
        }
      ]
    },
    {
      "cell_type": "code",
      "metadata": {
        "id": "tsZnkMDVGZmR",
        "colab_type": "code",
        "colab": {}
      },
      "source": [
        "mnbnoignore=KNeighborsClassifier(n_neighbors=20)\n",
        "mnbnoignore.fit(training_cvnoignore,trainingFrame_classifiers)\n",
        "testing_cvnoignore=cvnoignore.transform(testingFrame_text)\n",
        "prednoignore=mnbnoignore.predict(testing_cvnoignore)\n",
        "print(accuracy_score(testingFrame_classifiers, prednoignore))\n",
        "print(f1_score(testingFrame_classifiers,prednoignore,average='binary'))\n",
        "print(classification_report(testingFrame_classifiers, prednoignore, target_names=target_names))\n",
        "print('\\n\\ntotal f1 score', f1_score(testingFrame_classifiers, prednoignore, average='binary'))\n",
        "print('total accuracy', accuracy_score(testingFrame_classifiers, prednoignore), '\\n\\n')\n",
        "printInfo(prednoignore, testingFrame_classifiers, 'knn')"
      ],
      "execution_count": 0,
      "outputs": []
    },
    {
      "cell_type": "code",
      "metadata": {
        "id": "wU884aCxbITM",
        "colab_type": "code",
        "colab": {}
      },
      "source": [
        "# f1_score(testingFrame_classifiers, result, average='binary')\n",
        "len(testingFeatureVecs)"
      ],
      "execution_count": 0,
      "outputs": []
    },
    {
      "cell_type": "code",
      "metadata": {
        "id": "-olvuww0eLEX",
        "colab_type": "code",
        "colab": {}
      },
      "source": [
        "# print(testingFeatureVecs)\n",
        "# print(trainingFeatureVecs)\n",
        "# #print(result.shape)\n",
        "# print(testingFrame_classifiers)"
      ],
      "execution_count": 0,
      "outputs": []
    },
    {
      "cell_type": "code",
      "metadata": {
        "id": "xtshnFlY7U6X",
        "colab_type": "code",
        "colab": {}
      },
      "source": [
        "# !wget -P /root/input/ -c \"https://s3.amazonaws.com/dl4j-distribution/GoogleNews-vectors-negative300.bin.gz\""
      ],
      "execution_count": 0,
      "outputs": []
    },
    {
      "cell_type": "code",
      "metadata": {
        "id": "2MwunHvE-1p7",
        "colab_type": "code",
        "colab": {}
      },
      "source": [
        "# import gensim\n",
        "# model = gensim.models.KeyedVectors.load_word2vec_format('/root/input/GoogleNews-vectors-negative300.bin.gz', binary=True)"
      ],
      "execution_count": 0,
      "outputs": []
    },
    {
      "cell_type": "code",
      "metadata": {
        "id": "23SNocNpMg0-",
        "colab_type": "code",
        "colab": {}
      },
      "source": [
        "def printMoreInfo(df):\n",
        "    pos = 0\n",
        "    neg = 0\n",
        "    psize = 0\n",
        "    nsize = 0\n",
        "    for i, sent in enumerate(df['text']):\n",
        "        if df['classifier'][i] == 1:\n",
        "            pos += len(sent.split())\n",
        "            psize += 1\n",
        "        else:\n",
        "            neg += len(sent.split())\n",
        "            nsize += 1\n",
        "    \n",
        "    print('Average number of words in a definition is ' , pos // psize)\n",
        "    print('Average number of words in rest is ' , neg // nsize)\n",
        "\n",
        "# printMoreInfo(trainingFrame)"
      ],
      "execution_count": 0,
      "outputs": []
    },
    {
      "cell_type": "code",
      "metadata": {
        "id": "S0bOuC_oTnpM",
        "colab_type": "code",
        "colab": {}
      },
      "source": [
        "# graph most frequent 100 words\n",
        "vocab = list(model.wv.index2entity[:100])\n",
        "X = model[vocab]\n",
        "\n",
        "tsne = TSNE(n_components=2)\n",
        "X_tsne = tsne.fit_transform(X)\n",
        "\n",
        "df = pd.DataFrame(X_tsne, index=vocab, columns=['x', 'y'])\n",
        "\n",
        "fig = plt.figure()\n",
        "ax = fig.add_subplot(1, 1, 1)\n",
        "\n",
        "ax.scatter(df['x'], df['y'])\n",
        "\n",
        "for word, pos in df.iterrows():\n",
        "    ax.annotate(word, pos)\n",
        "\n",
        "plt.show()"
      ],
      "execution_count": 0,
      "outputs": []
    },
    {
      "cell_type": "code",
      "metadata": {
        "id": "HLUvPHTcA11M",
        "colab_type": "code",
        "colab": {}
      },
      "source": [
        "# from gensim.test.utils import common_texts\n",
        "# from gensim.models.doc2vec import Doc2Vec, TaggedDocument\n",
        "# # documents = [TaggedDocument(doc, [i]) for i, doc in enumerate(common_texts)]\n",
        "# documents = [TaggedDocument(text.split(), [trainingFrame_classifiers[i]]) for i, text in enumerate(trainingFrame['text'])]\n",
        "# model = Doc2Vec(documents, vector_size=300, window=5, min_count=1, workers=4)"
      ],
      "execution_count": 0,
      "outputs": []
    },
    {
      "cell_type": "code",
      "metadata": {
        "id": "FwFGRSKGEvvL",
        "colab_type": "code",
        "colab": {}
      },
      "source": [
        "# model.train(documents=documents, total_examples=len(documents), epochs=10)"
      ],
      "execution_count": 0,
      "outputs": []
    },
    {
      "cell_type": "code",
      "metadata": {
        "id": "83XPpFchBp0D",
        "colab_type": "code",
        "colab": {}
      },
      "source": [
        "# trainingFeatureVecs = [model.infer_vector(sent.split()) for sent in trainingFrame_text]"
      ],
      "execution_count": 0,
      "outputs": []
    },
    {
      "cell_type": "code",
      "metadata": {
        "id": "O_O6Z95aB9Bb",
        "colab_type": "code",
        "colab": {}
      },
      "source": [
        "# testingFeatureVecs = [model.infer_vector(sent.split()) for sent in testingFrame_text]"
      ],
      "execution_count": 0,
      "outputs": []
    },
    {
      "cell_type": "code",
      "metadata": {
        "id": "yxjiFVrQzU_3",
        "colab_type": "code",
        "colab": {}
      },
      "source": [
        "# from gensim.models import FastText\n",
        "# model = FastText(size=4, window=5, min_count=1, sentences=sentences, iter=10)\n"
      ],
      "execution_count": 0,
      "outputs": []
    },
    {
      "cell_type": "code",
      "metadata": {
        "id": "eZgPrdxP1JlK",
        "colab_type": "code",
        "colab": {}
      },
      "source": [
        "# import numpy as np\n",
        "# import pandas as pd\n",
        "\n",
        "# from sklearn.preprocessing import LabelBinarizer\n",
        "# from sklearn.ensemble import RandomForestClassifier\n",
        "# from sklearn.model_selection import train_test_split, GridSearchCV, StratifiedKFold\n",
        "# from sklearn.metrics import roc_curve, precision_recall_curve, auc, make_scorer, recall_score, accuracy_score, precision_score, confusion_matrix\n",
        "\n",
        "# import matplotlib.pyplot as plt\n",
        "# plt.style.use(\"ggplot\")\n",
        "\n",
        "# clf = RandomForestClassifier(n_jobs=-1)\n",
        "\n",
        "# param_grid = {\n",
        "#     # 'min_samples_split': [3, 5, 10], \n",
        "#     'n_estimators' : [100, 300],\n",
        "#     'max_depth': [3, 5, 15, 25],\n",
        "#     # 'max_features': [3, 5, 10, 20]\n",
        "# }\n",
        "\n",
        "# scorers = {\n",
        "#     'f1_score': make_scorer(f1_score),\n",
        "#     'accuracy_score': make_scorer(accuracy_score)\n",
        "# }\n",
        "\n",
        "# def grid_search_wrapper(refit_score='f1_score'):\n",
        "#     \"\"\"\n",
        "#     fits a GridSearchCV classifier using refit_score for optimization\n",
        "#     prints classifier performance metrics\n",
        "#     \"\"\"\n",
        "#     skf = StratifiedKFold(n_splits=10)\n",
        "#     grid_search = GridSearchCV(clf, param_grid, scoring=scorers, refit=refit_score,\n",
        "#                            cv=skf, return_train_score=True, n_jobs=-1)\n",
        "    \n",
        "#     grid_search.fit(trainingFeatureVecs, trainingFrame_classifiers)\n",
        "\n",
        "#     # make the predictions\n",
        "#     y_pred = grid_search.predict(validationFeatureVecs)\n",
        "\n",
        "#     print('Best params for {}'.format(refit_score))\n",
        "#     print(grid_search.best_params_)\n",
        "\n",
        "#     # confusion matrix on the test data.\n",
        "#     print('\\nConfusion matrix of Random Forest optimized for {} on the test data:'.format(refit_score))\n",
        "#     print(pd.DataFrame(confusion_matrix(y_test, y_pred),\n",
        "#                  columns=['pred_neg', 'pred_pos'], index=['neg', 'pos']))\n",
        "#     return grid_search\n",
        "\n",
        "\n",
        "# grid_search_clf = grid_search_wrapper()"
      ],
      "execution_count": 0,
      "outputs": []
    }
  ]
}